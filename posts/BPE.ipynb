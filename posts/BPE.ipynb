{
 "cells": [
  {
   "cell_type": "raw",
   "id": "bf033e99-e7a3-4117-996e-30c91f9b2b4c",
   "metadata": {},
   "source": [
    "---\n",
    "title: \"Byte Pair Encoding\"\n",
    "author: \"차상진\"\n",
    "date: \"2025-04-24\"\n",
    "---"
   ]
  },
  {
   "cell_type": "markdown",
   "id": "250f2875-b3f3-4700-b566-c4a81d5206f5",
   "metadata": {},
   "source": [
    "# 1. Byte Pair Encoding?"
   ]
  },
  {
   "cell_type": "markdown",
   "id": "b43a4e83-790e-4ce4-b94e-c2f2f6cfb227",
   "metadata": {},
   "source": [
    "**BPE(Byte Pair Encoding)** 는 긴 단어나 새로운 단어를 **작은 단위(조각)**로 쪼개서 처리할 수 있게 해주는 토큰화 기법이다."
   ]
  },
  {
   "cell_type": "markdown",
   "id": "1bbe9c49-c748-4214-8e14-7e827969f98d",
   "metadata": {},
   "source": [
    "예를 들어 \"lowest\" 같은 단어는 \"low\" + \"est\"로 나눌 수 있고,\n",
    "\n",
    "처음 보는 단어 \"slowestestestestest\"는\n",
    "→ \"s\", \"l\", \"o\", \"w\", \"est\", \"est\", \"est\", \"est\", \"est\" 처럼 처리할 수 있습니다.\n",
    "\n",
    "이렇게 하면 모델이 모르는 단어도 일부 조각으로 처리 가능하게 됩니다."
   ]
  },
  {
   "cell_type": "markdown",
   "id": "a40b39bb-2c13-4949-863f-a6e145a5d736",
   "metadata": {},
   "source": [
    "`Byte Pair Encoding`을 이용해서 `Corpus`를 토큰화하는 과정을 구현합니다.\n",
    "\n",
    "`BPE`는 `vocabulary`를 구축하는 단계인 `Train단계`, 구축된 `vocabulary`을 이용해서 새로운 `Corpus`를 토큰화하는 `Infer` 단계로 나누어서 진행하겠습니다."
   ]
  },
  {
   "cell_type": "markdown",
   "id": "1c39f625-b740-439d-ae2a-d537b44d527c",
   "metadata": {},
   "source": [
    "# 2. Imports"
   ]
  },
  {
   "cell_type": "code",
   "execution_count": 4,
   "id": "b2ea7441-549e-496b-a0cb-abd8b7cfdce9",
   "metadata": {},
   "outputs": [],
   "source": [
    "import re\n",
    "from collections import defaultdict"
   ]
  },
  {
   "cell_type": "markdown",
   "id": "46eb714e-42cd-41b4-8752-977ca64aee27",
   "metadata": {},
   "source": [
    "# 3. train"
   ]
  },
  {
   "cell_type": "code",
   "execution_count": 7,
   "id": "3049e0ed-f262-4b02-bf7b-94639a36eaa8",
   "metadata": {},
   "outputs": [],
   "source": [
    "# 1-1. load file\n",
    "def load_file(file_path):\n",
    "    with open(file_path, 'r', encoding='utf-8') as f:\n",
    "        return f.read()\n",
    "        \n",
    "# 1-2. calculate best pair\n",
    "def get_char_vocab(vocab):\n",
    "    char_vocab = defaultdict(int)\n",
    "    for word in vocab:\n",
    "        word_tuple = tuple(word)\n",
    "        for i in range(len(word_tuple) - 1):\n",
    "            pair = (word_tuple[i], word_tuple[i + 1])  # 인접 문자쌍\n",
    "            char_vocab[pair] += 1\n",
    "    return char_vocab\n",
    "\n",
    "# 1-3. merge best pair\n",
    "def merge_best_pair(tokenized_vocab, best_pair):\n",
    "    new_tokenized_vocab = []\n",
    "    \n",
    "    for word in tokenized_vocab:\n",
    "        new_word = []\n",
    "        i = 0\n",
    "        while i < len(word):\n",
    "            if i < len(word) - 1 and (word[i], word[i + 1]) == best_pair:\n",
    "                new_word.append(''.join(best_pair))  # 병합된 문자 추가\n",
    "                i += 2  # 두 개를 하나로 병합했으므로 2 증가\n",
    "            else:\n",
    "                new_word.append(word[i])\n",
    "                i += 1\n",
    "        new_tokenized_vocab.append(new_word)\n",
    "\n",
    "    return new_tokenized_vocab\n",
    "\n",
    "# 1-4. BPE Algorithm execution\n",
    "def bpe_algorithm(file_path, max_vocab):\n",
    "    text = load_file(file_path)\n",
    "    vocab = set() # 빈 vocab 리스트\n",
    "    words = text.split() \n",
    "    tokenized_vocab = [list(word) for word in words]  # 문자 단위로 변환\n",
    "    \n",
    "    while len(vocab) < max_vocab:\n",
    "        char_vocab = get_char_vocab(tokenized_vocab)\n",
    "        \n",
    "        if not char_vocab:  # 더 이상 병합할 것이 없으면 종료\n",
    "            break\n",
    "        \n",
    "        best_pair = max(char_vocab, key=char_vocab.get)  # 가장 빈번한 문자쌍 선택\n",
    "        tokenized_vocab = merge_best_pair(tokenized_vocab, best_pair)  # 병합 실행\n",
    "        vocab.add(''.join(best_pair))  # 병합된 문자쌍을 vocab에 추가\n",
    "\n",
    "         # 50개씩 vocab 크기가 증가할 때마다 출력\n",
    "        if len(vocab) % 50 == 0:\n",
    "            print(f\"Current vocab size: {len(vocab)}/{max_vocab}\")\n",
    "\n",
    "    return list(vocab), tokenized_vocab\n",
    "\n",
    "# 1-5. execution\n",
    "file_path = 'pg100.txt'\n",
    "max_vocab = 1  # 최대 vocab 크기 설정\n",
    "final_vocab, final_tokenized_vocab = bpe_algorithm(file_path, max_vocab) # final_tokenized_vocab는 병합된 단어가 계속 쌓아가는 상황을 보여주기에 결과가 길고 지저분하다. 그래서 보이게 하지 않는 것이다.\n",
    "\n",
    "# 1-6. result\n",
    "print(f\"최종 vocab 크기: {len(final_vocab)}\")\n",
    "print(f\"일부 vocab: {final_vocab[:20]}\")\n",
    "\n",
    "# 1-7. make vocab\n",
    "with open('vocab.txt', 'w', encoding='utf-8') as f:\n",
    "    f.write(\"\\n\".join(final_vocab))"
   ]
  },
  {
   "cell_type": "markdown",
   "id": "d6c81479-2723-43cd-8ca4-c84d490d8ddf",
   "metadata": {},
   "source": [
    "# 4. infer "
   ]
  },
  {
   "cell_type": "code",
   "execution_count": 6,
   "id": "6f466847-fa71-4f8a-a3e7-d0563a498678",
   "metadata": {},
   "outputs": [
    {
     "name": "stdout",
     "output_type": "stream",
     "text": [
      "Tokenization completed. Check output.txt\n"
     ]
    }
   ],
   "source": [
    "# 2-1. Vocab 불러오기\n",
    "def load_vocab(vocab_file):\n",
    "    with open(vocab_file, 'r', encoding='utf-8') as f:\n",
    "        return set(line.strip() for line in f)  # 줄바꿈 제거 후 집합으로 저장\n",
    "\n",
    "# 2-2. 입력 데이터 불러오기\n",
    "def load_text(input_file):\n",
    "    with open(input_file, 'r', encoding='utf-8') as f:\n",
    "        return f.read()\n",
    "\n",
    "# # 2-3. BPE 기반 토큰화 수행\n",
    "def tokenize(text, vocab):\n",
    "    words = text.split()  # 공백 기준 단어 분리\n",
    "    tokenized_output = [] # 토큰화 된 것을 저장하기 위한 빈 리스트\n",
    "\n",
    "    for word in words:\n",
    "        subword_tokens = []\n",
    "        current = word\n",
    "\n",
    "        while current:\n",
    "            # 가능한 가장 긴 서브워드를 찾음\n",
    "            for i in range(1,len(current)+1)[::-1]: # ex) abcd -> 4,3,2,1 순으로 인덱스\n",
    "                subword = current[:i]  # 오른쪽의 알파벳을 하나씩 떼면서 vocab에 단어가 있는지 확인\n",
    "                if subword in vocab: # 오른쪽 알파벳 하나씩 떼다가 vocab에 같은 거 발견한다면!\n",
    "                    subword_tokens.append(subword) # subword_tokens에 추가\n",
    "                    current = current[i:]  # 뗐던 부분에서 vocab에 단어가 있을 수 있으니 다시 확인하기 위해 current로 저장\n",
    "                    break\n",
    "            else:  # for loop를 돌았지만 break가 발생하지 않는다면 else 실행\n",
    "                # 해당하는 서브워드가 vocab에 없으면 그냥 문자 단위로 분리\n",
    "                subword_tokens.append(current[0]) # 첫 글자 분리\n",
    "                current = current[1:] # 첫 글자 떼고 나머지는 다시 for loop 실행\n",
    "\n",
    "        # 첫 번째 토큰을 제외한 나머지 서브워드에 '##' 추가\n",
    "        for i in range(1, len(subword_tokens)):\n",
    "            subword_tokens[i] = '##' + subword_tokens[i]\n",
    "\n",
    "        tokenized_output.extend(subword_tokens) # .extend() -> 리스트에 원소를 추가 \n",
    "\n",
    "    return ' '.join(tokenized_output) # 공백을 추가하여 하나로 정리\n",
    "\n",
    "# 2-5. 결과 저장\n",
    "def save_output(output_text, output_file):\n",
    "    with open(output_file, 'w', encoding='utf-8') as f:\n",
    "        f.write(output_text)\n",
    "\n",
    "# 2-6. 실행\n",
    "vocab_file = 'vocab.txt'  # 저장된 BPE vocab\n",
    "input_file = 'infer.txt'  # 토큰화할 입력 텍스트\n",
    "output_file = 'output.txt'  # 결과 저장할 파일\n",
    "\n",
    "vocab = load_vocab(vocab_file)\n",
    "text = load_text(input_file)\n",
    "tokenized_text = tokenize(text, vocab)\n",
    "save_output(tokenized_text, output_file)\n",
    "\n",
    "print(\"Tokenization completed. Check\", output_file)"
   ]
  }
 ],
 "metadata": {
  "kernelspec": {
   "display_name": "Python 3 (ipykernel)",
   "language": "python",
   "name": "python3"
  },
  "language_info": {
   "codemirror_mode": {
    "name": "ipython",
    "version": 3
   },
   "file_extension": ".py",
   "mimetype": "text/x-python",
   "name": "python",
   "nbconvert_exporter": "python",
   "pygments_lexer": "ipython3",
   "version": "3.13.2"
  }
 },
 "nbformat": 4,
 "nbformat_minor": 5
}
