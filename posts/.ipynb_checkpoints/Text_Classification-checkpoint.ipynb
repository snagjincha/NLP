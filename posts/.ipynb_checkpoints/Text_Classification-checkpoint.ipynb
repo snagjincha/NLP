{
 "cells": [
  {
   "cell_type": "raw",
   "id": "ee6cd5ec",
   "metadata": {},
   "source": [
    "---\n",
    "title: NLP Text Classification Fine Tuning\n",
    "author: 차상진\n",
    "date: '2025-03-17'\n",
    "---"
   ]
  },
  {
   "cell_type": "markdown",
   "id": "51031417",
   "metadata": {},
   "source": [
    "`-` **colab에서 실습하길 바랍니다.**\n"
   ]
  },
  {
   "cell_type": "code",
   "execution_count": null,
   "id": "e0957f13",
   "metadata": {
    "colab": {
     "base_uri": "https://localhost:8080/"
    }
   },
   "outputs": [],
   "source": [
    "# !git clone https://github.com/rickiepark/nlp-with-transformers.git\n",
    "# %cd nlp-with-transformers\n",
    "# from install import *\n",
    "# install_requirements(chapter=2)"
   ]
  },
  {
   "cell_type": "markdown",
   "id": "73f7a047",
   "metadata": {},
   "source": [
    "## 1. Data loading & Emotion encoding\n"
   ]
  },
  {
   "cell_type": "code",
   "execution_count": null,
   "id": "bd490030",
   "metadata": {
    "colab": {
     "base_uri": "https://localhost:8080/",
     "height": 676,
     "referenced_widgets": [
      "22c6f95b67ad4ec2863d5d5c817b58a9",
      "1eeca305a1ce43258e334d76524b3e7c",
      "96a1bfea5bb14be88f08537dbd102220",
      "61534b1daa8e47f6825cbd26c9f34257",
      "b143f9d723ae463e99049f4b22c0d779",
      "c16ac30b9fce4fd188ba9c7c4e2e1a41",
      "8e02c791866645a2887d4cda69b3c3f4",
      "16e4c19798454bb8a3feb756dfedc58b",
      "95450e8971f04b5e9ea8e0c62e66fe2f",
      "948189df5f0a477f8fa9f73c518cdd98",
      "03d986bf8a464cddbd1d2379c2cbd7a7",
      "b24a4c545d934a15a7b93c49c9c6e22d",
      "fea0ce009bbc4f308a4d6006f9730ede",
      "7c1af48ae7a147eb9f605ab328de8096",
      "7612d577c5de4422b64225c338ed0ccc",
      "b4456d191c594bdc911fa9983dd871a1",
      "474a948deed04c8a83396410ff12b805",
      "46c467041e3d48f79d3595bc57f0f74e",
      "15dfc108897a46718602c98066bb6fdc",
      "669dcdaf9384441198404367f6f488f3",
      "d056d900dff04a27a7f168a8614d61eb",
      "361a3edee2fc41c48af0ff91cd57bfa1",
      "24902490a2be49519dd3a5f2ee5b0da6",
      "f76f473209694e799f1b219a28286149",
      "11c5ed5de7104fbc94261bb33611a3fb",
      "645089ce6f1741feaaacf00179b12ff1",
      "0d701b8a19294a52bd6de31447f6f5ab",
      "b24e1a6e9b014a499ac13eaf8ec94ee3",
      "1a482680a08b4b3797587b58f6a149c2",
      "5bff598e8dbe4eb2bd670277ca297dd7",
      "4f428c6baae7497babe4ec68439ab61f",
      "c3b076d0a72a4279bede4655e10b056b",
      "2c95c6febf264f3eb46e34d08c003aed",
      "13eb16d76e9149a1874f51dff6f31ebe",
      "520fc7708ec44c2a80fb3d536b1316d4",
      "026b726b48db4d138239f34274ce5f0f",
      "359929a3cce945e288414dca70e4a747",
      "d5b41be21d2a45ba858f866b85757b7a",
      "6986c63cd6fe42b8a934165e08409d7e",
      "fcff401a2a85469395cb15261c8f1a39",
      "c5788b0d56444debabede3de45d7741c",
      "3562a2e008524edaab33aa12201847a8",
      "621ac25706bb4950bf6f573b114efd29",
      "01f5ea10df234a418cd5693d4cb3fa4e",
      "40a9a176936749c8b4e6f0ac971d40d3",
      "6ad6c6372ca2470db20583eeba20a7d2",
      "e3c37579734549118cfa6d8d7b533ea2",
      "fc326c3d05004aeda3b8248c41fecd56",
      "765573c27296418eb2e9301decffc58b",
      "fb6fa70712844205bcca92dd88d96ded",
      "d95f8fe4cfb2447496bf68d315293694",
      "5f897bd8b1ad4451bae1fb8149f865a4",
      "2adf9618b02f4cf0aac22b1ac0de7d9f",
      "c1fc6e9093dc42449cdcf2fb5b007dcc",
      "8eba0cf947714fce9a7042396b72a75a",
      "6045813a5a4f46358bd4a77ff2fd5a17",
      "15c5001ce9b54b559e48bc6b5a53c655",
      "26365e1cb87649109cb957ab4bd4441d",
      "a648589f027c40c9bc60c3cef3d8ca43",
      "561aaa3bb319493a9305eed557e0918e",
      "2e042189e6dd4c3798d664ca04acf8dc",
      "f22a0ead2ea9481d919dd82f45a9775e",
      "3a89a0580fe4438bbac8a2fc66e1fca7",
      "f045055ade88419fa7f07ca129f76b0d",
      "14a255803903423fbdb1fe3f5d07a509",
      "96bb51084a1a4585b845b856dc23f634",
      "44dd2595fa354a23829bfedcca8970b0",
      "ee46512456b5446c9bcce7cf70ba0f54",
      "19c71b17bc3b4a7bb0250886f9cafc40",
      "c1256766f8fa46dfa13b4d662f3fbee7",
      "3e8faa714f184bd1a8273211d3bb9b05",
      "56e8f2940a1f4339a54d6490eaaff9ab",
      "56cb5bd7c335490697b61c49084f113a",
      "b4388394c840420ca78e9f4343b7591c",
      "66b4c605256d4e97adde4c2d461bb45c",
      "7a96afbf48114b599690fbf1e18e75b5",
      "eefd2a35831e4912a1cefb1d0f9b4134",
      "75b97c6b218a409ca61a060c1fd37ee2",
      "7495f50bc1cb495c94d495f1f555f65e",
      "a8f8b36cf5db4a45be425c970f5d52c9",
      "b9d77c744d3945f692f0d725bd8f90f3",
      "0315c13a2fca497e96b090755add25b7",
      "9d4e4c6d34b94718b0069af8e9f920d1",
      "c9c089c16863427a9f1315421b873d75",
      "1e69caeab4ad4ac09c02b99c35187a6b",
      "4ff66a70c5984393aef5ee05aed24c54",
      "f97736afcfbf4ec6a1fb29c819f3da70",
      "1040aaa8933742b695e4a66886feb322",
      "b9c0147d1dab4985aaa69bb8f6bf49a7",
      "8f6ddbc256e04760a2ee9c6b7eee2998",
      "894ab27b04944398a31bedc1d82acac5",
      "b1ea5528bfe2488e8974326e06319c6f",
      "3db45d3253304fbfab91d5cec1d68044",
      "75637e24e33547e9bd9657524d77345b",
      "2e7c3ae3dbe24ec6bf3995cb48d2b718",
      "2684632184914488844e90786aeed1e5",
      "8b4cc08566e6446d95a93b569f484c66",
      "b80d1aeea0304595aa91d2720fa0ed37",
      "bcb8aaee634f4830beb505c74a1655d3",
      "28af63f8e6bc415e930064a4e1440f77",
      "44f29a2fb04e4199886128573a9e57f4",
      "a515e9381b81423ebdd7d8f3a9c71d09",
      "343e2b4025bf418a83bb18c395027c77",
      "ff50b6a20a164e1ca5c312c85e944fec",
      "b72dbbf445b44a2a9aab3c0412d44634",
      "c3e0214a3ea547f88db215dc49b46dfc",
      "d788d2bfe4ad4e04b9df00a866b38ef4",
      "63ff6afee4e846f49b905bfd30688d54",
      "a7934c56d7bd471db5469f4fe3a6965c",
      "1b95c4c14cd445808c64fa62c1e71e61",
      "d00d8ead5b6249909e2919922ae52f38",
      "dbf432fc74af4d8e9390cad6db1fff94",
      "1bf4bb818c7649c99f2c2331bbfa2ce2",
      "74bd453644a3455cbe5d46dd5ebe8851",
      "b2afed8dab7649e6a24b81845a7cc9de",
      "03d0772794b44d629b182ce35869d712",
      "17735a1fc9894bbca0d326b1f4639ac3",
      "b61b50eff35749e0a1d446ab8502bb68",
      "74811e1eb8dc469f84503e01434a265b",
      "048ec939d11543d5a36c30b58f3b19b2",
      "1f968afc991640d0b4343bb29e30fe7a",
      "512078ff299c4f62904e5edcb8ec9517",
      "c21d9dcb426f44cf9b26154069534eac",
      "23a83e1603e348aea2c133a7fc52d9ff",
      "dc521003cb9d4faabd217c3b5bfbc625",
      "51bba3fb90fa447db2f077ff4027e51b",
      "9042aa9893fd40c18f953169796b4235",
      "b83851c679724a3eac59a769a4c1f562",
      "125e1e8c880a4accbf5d4de06ae32cbb",
      "dd17092af0d94ccfbf9d56304b5f6b6c",
      "45dd4cc5db874cc2bcb5c5abffddc283",
      "164357a027a84ea5bea1aae690b97f30",
      "bb93fd8e911548ccad036b28b4bd570f",
      "448b9207292c489e91481e346da585db",
      "b299d35c44be4ca6bd3aa2fc0d3ba1fe",
      "fb5df666b1f744acab6dbe3eafb3cedc",
      "109f9b324dfc42daaa51a92de4610f9e",
      "b12e3b1ba3b04a1dbec893d263a8a26b",
      "c870ecddf978499eab3b204184ed0ee1",
      "3a2725a5593b402fb01a5c012b934fa2",
      "c0367627c1b944808ca28f6d58b886c3",
      "f55244991e7c44f9a306e1c2b9ec9b10",
      "3227ce956e2c4f41a103df054c53cf1e",
      "015dbfa1ae654c71af46ea039da2f532",
      "a7fab506ab1e4bd4a21f343b451c90c8",
      "6d46a082ba6e40249c5cdb1757c44b9c",
      "7587797e7b8c44f7927504ece370a172",
      "bf7c8d66fba44039b6a19d1b3b32c3a0",
      "deed9eb5aaac494fafb2f190b95c1388",
      "cfa4eb1991a54fab8069e9f1aa89e20b",
      "a3afafdc51a54b178d3b7bedd27cef46",
      "f91733aa11a946dc8f657f2ab0debbd8",
      "2455cb42b73e46d5bef697914b443a95",
      "da4f2cde733c457f82cd8170819c04db"
     ]
    }
   },
   "outputs": [],
   "source": [
    "# 허깅페이스 데이터셋을 사용하기\n",
    "from huggingface_hub import list_datasets\n",
    "from datasets import load_dataset\n",
    "from datasets import ClassLabel\n",
    "\n",
    "emotions = load_dataset(\"emotion\")\n",
    "\n",
    "from transformers import AutoTokenizer\n",
    "emotions['train'].features['label'] = ClassLabel(num_classes=6, names=['sadness', 'joy', 'love', 'anger', 'fear', 'surprise'])\n",
    "model_ckpt = \"distilbert-base-uncased\"\n",
    "tokenizer = AutoTokenizer.from_pretrained(model_ckpt)\n",
    "\n",
    "def tokenize(batch):\n",
    "    return tokenizer(batch[\"text\"], padding=True, truncation=True)\n",
    "\n",
    "emotions_encoded = emotions.map(tokenize, batched=True, batch_size=None)"
   ]
  },
  {
   "cell_type": "markdown",
   "id": "7d794b47",
   "metadata": {},
   "source": [
    "`-` 코드 설명\n",
    "1. emotion 데이터를 불러온다.\n",
    "2. emotion 데이터에서 train에 있는 레이블을 6개의 감정으로 할당해준다.\n",
    "3. model을 설정하고 tokenizer도 모델에 맞게 불러온다.\n",
    "4. tokenize 함수를 선언하고 문장 길이를 맞추기 위해 padding과 truncation을 True로 설정한다.\n",
    "5. emotion을 토크나이징 한다.\n",
    "\n",
    "## Text tokenizing\n"
   ]
  },
  {
   "cell_type": "code",
   "execution_count": null,
   "id": "ee4ac52a",
   "metadata": {
    "colab": {
     "base_uri": "https://localhost:8080/"
    }
   },
   "outputs": [],
   "source": [
    "from transformers import AutoModel\n",
    "import torch\n",
    "from sklearn.metrics import accuracy_score, f1_score\n",
    "\n",
    "text = \"this is a test\"\n",
    "inputs = tokenizer(text, return_tensors=\"pt\")\n",
    "inputs['input_ids'].size()"
   ]
  },
  {
   "cell_type": "markdown",
   "id": "72ba562a",
   "metadata": {},
   "source": [
    "`-` 코드 설명\n",
    "1. 임의의 테스트 text를 생성 후 토크나이징을 해준다.\n",
    "2. tokenizer가 반환하는 데이터를 PyTorch 텐서(torch.Tensor) 형식으로 변환하기 위해서 return_tensors=\"pt\"를 설정한다.\n",
    "\n",
    "## 3. HF login\n"
   ]
  },
  {
   "cell_type": "code",
   "execution_count": null,
   "id": "0ab392e4",
   "metadata": {
    "colab": {
     "base_uri": "https://localhost:8080/",
     "height": 17,
     "referenced_widgets": [
      "71b99e4f4c574de1b3307e0facdb2af9",
      "a95a1334fb5a4debac5ef1f647a2a00f",
      "fb43191ad1e04bf6a1de784a7622e92e",
      "104606a17ab4476f98aad6a6258fb51c",
      "e53f865a57d14156aabbda4b6707476d",
      "64ae4cdd1616483aa2cddf48639c5ab3",
      "93b09f5bdae24a4c9cfc489dc880246a",
      "0fd7a7b1995e4026a83cf9eb09995467",
      "3c3066db43c04aa5a70a26ab0956e014",
      "e7d2a2cd7ccb4cf586018199c54a2581",
      "241f2a73c2cb432c884d547e2d1297c7",
      "c40550bbb5f246b687f5ce09f911a0b7",
      "641b8e28189d4f8d81dbc6accf30f1a6",
      "98ad1fef27bd4ed494fac9a78c08ae81",
      "c694d47c3a584a62a3db2de67f225ce6",
      "77f0a280974f499f93778490811501b6",
      "da341a74da03474daad9e89de66ab289",
      "ebe2f47908314203a39b3b3628fe7ed1",
      "70cb2e38eaf047afb81ed83fe45c8110",
      "51ef47a6d7c04a28a5f397dd0525ad3c"
     ]
    }
   },
   "outputs": [],
   "source": [
    "from huggingface_hub import notebook_login\n",
    "\n",
    "notebook_login()"
   ]
  },
  {
   "cell_type": "markdown",
   "id": "7a3b53ee",
   "metadata": {},
   "source": [
    "## 4. model\n"
   ]
  },
  {
   "cell_type": "code",
   "execution_count": null,
   "id": "1e65109c",
   "metadata": {
    "colab": {
     "base_uri": "https://localhost:8080/",
     "height": 49,
     "referenced_widgets": [
      "7a331f0757db4232aa31bf04e81985f8",
      "c358000296554c00b3d3687f25d6d394",
      "6e925fdb0478442e8114cb5af6227c37",
      "21d2f6c64a8b4f178dfa621b1140ef7a",
      "f144f9a1f21e40a4861cdc0cf4637a73",
      "f610bdbb02784711a3d09ba467ddf899",
      "90da9d220342480eb97c4998f9c78f7c",
      "614e7a4b4cac4f25be237d30ee5c677e",
      "7b6cba3494594621852bfb43a1c42bca",
      "96202cbb23414d20ae9b31ed9ec14ba0",
      "e0a51ff3752f412897b506f3b37f1a29"
     ]
    }
   },
   "outputs": [],
   "source": [
    "from transformers import AutoModelForSequenceClassification\n",
    "\n",
    "device = torch.device(\"cuda\" if torch.cuda.is_available() else \"cpu\")\n",
    "num_labels = 6\n",
    "model_ckpt = \"distilbert-base-uncased\"\n",
    "\n",
    "# distilbert-base-uncased가 바디이고 AutoModelForSequenceClassification가 헤드이다.\n",
    "# num_label이 6이므로 6개의 감정 클래스를 분류하는 헤드 하나가 추가된 것이다.\n",
    "model = (AutoModelForSequenceClassification\n",
    "         .from_pretrained(model_ckpt, num_labels=num_labels)\n",
    "         .to(device))"
   ]
  },
  {
   "cell_type": "markdown",
   "id": "17135afc",
   "metadata": {},
   "source": [
    "`-` 코드 설명\n",
    "1. GPU를 사용하기 위해 device 설정.\n",
    "2. label의 개수는 위에서 할당한 대로 6개이고 model도 선언해준다.\n",
    "3. 여기서 distilbert-base-uncased은 바디이고 AutoModelForSequenceClassification은 헤드이다. 사전학습된 bert모델에 감정 클래스 분류를 위해서 헤드를 추가했다.\n",
    "\n",
    "## 5. Learning\n"
   ]
  },
  {
   "cell_type": "code",
   "execution_count": null,
   "id": "8755a649",
   "metadata": {
    "colab": {
     "base_uri": "https://localhost:8080/"
    }
   },
   "outputs": [],
   "source": [
    "from transformers import Trainer, TrainingArguments\n",
    "\n",
    "batch_size = 64\n",
    "logging_steps = len(emotions_encoded[\"train\"]) // batch_size\n",
    "model_name = f\"{model_ckpt}-finetuned-emotion\"\n",
    "training_args = TrainingArguments(output_dir=model_name,\n",
    "                                  num_train_epochs=2,\n",
    "                                  learning_rate=2e-5,\n",
    "                                  per_device_train_batch_size=batch_size,\n",
    "                                  per_device_eval_batch_size=batch_size,\n",
    "                                  weight_decay=0.01,\n",
    "                                  evaluation_strategy=\"epoch\",\n",
    "                                  disable_tqdm=False,\n",
    "                                  logging_steps=logging_steps,\n",
    "                                  push_to_hub=True,\n",
    "                                  save_strategy=\"epoch\",\n",
    "                                  load_best_model_at_end=True,\n",
    "                                  log_level=\"error\",\n",
    "                                  report_to=\"none\")"
   ]
  },
  {
   "cell_type": "code",
   "execution_count": null,
   "id": "ad345c21",
   "metadata": {
    "colab": {
     "base_uri": "https://localhost:8080/",
     "height": 265
    }
   },
   "outputs": [],
   "source": [
    "def compute_metrics(pred):\n",
    "    labels = pred.label_ids\n",
    "    preds = pred.predictions.argmax(-1)\n",
    "    f1 = f1_score(labels, preds, average=\"weighted\")\n",
    "    acc = accuracy_score(labels, preds)\n",
    "    return {\"accuracy\": acc, \"f1\": f1}\n",
    "\n",
    "trainer = Trainer(model=model, args=training_args,\n",
    "                  compute_metrics=compute_metrics,\n",
    "                  train_dataset=emotions_encoded[\"train\"],\n",
    "                  eval_dataset=emotions_encoded[\"validation\"],\n",
    "                  tokenizer=tokenizer)\n",
    "trainer.train()"
   ]
  },
  {
   "cell_type": "markdown",
   "id": "581d4f8d",
   "metadata": {},
   "source": [
    "`-` 코드 설명\n",
    "1. training argument를 설정해준다.\n",
    "2. 학습을 하고 결과를 보니 Loss, Accuracy, F1 들이 전부 향상된 것을 볼 수 있다. 즉 Fine tuning이 잘 이루어 졌다고 볼 수 있다.\n",
    "\n",
    "## 6. Prediction\n"
   ]
  },
  {
   "cell_type": "code",
   "execution_count": null,
   "id": "ef44e4ad",
   "metadata": {
    "colab": {
     "base_uri": "https://localhost:8080/",
     "height": 124
    }
   },
   "outputs": [],
   "source": [
    "output = trainer.predict(emotions_encoded[\"validation\"])\n",
    "output.metrics"
   ]
  },
  {
   "cell_type": "code",
   "execution_count": null,
   "id": "f7880b11",
   "metadata": {
    "colab": {
     "base_uri": "https://localhost:8080/"
    }
   },
   "outputs": [],
   "source": [
    "import numpy as np\n",
    "yy = np.argmax(output.predictions,axis=1)\n",
    "yy"
   ]
  },
  {
   "cell_type": "markdown",
   "id": "3be37fb4",
   "metadata": {},
   "source": [
    "## 7. Error analyze\n"
   ]
  },
  {
   "cell_type": "code",
   "execution_count": null,
   "id": "029bbd7a",
   "metadata": {},
   "outputs": [],
   "source": [
    "from torch.nn.functional import cross_entropy\n",
    "\n",
    "def forward_pass_with_label(batch):\n",
    "    # 모든 입력 텐서를 모델과 같은 장치로 이동합니다.\n",
    "    inputs = {k:v.to(device) for k,v in batch.items()\n",
    "              if k in tokenizer.model_input_names}\n",
    "\n",
    "    with torch.no_grad(): # 역전파를 사용하지 않음 (평가 단계이므로)\n",
    "        output = model(**inputs) # 입력 데이터를 모델에 전달\n",
    "        pred_label = torch.argmax(output.logits, axis=-1) # 가장 높은 점수를 가진 클래스 선택\n",
    "        loss = cross_entropy(output.logits, batch[\"label\"].to(device), # loss 계산\n",
    "                             reduction=\"none\") # 평균을 내지 않고 개별 샘플의 손실을 반환\n",
    "\n",
    "    return {\"loss\": loss.cpu().numpy(), # 결과를 CPU로 이동 및 numpy 배열로 변환 # PyTorch 텐서는 dataset에서 다루기 어렵다.\n",
    "            \"predicted_label\": pred_label.cpu().numpy()}"
   ]
  },
  {
   "cell_type": "code",
   "execution_count": null,
   "id": "24265abb",
   "metadata": {
    "colab": {
     "base_uri": "https://localhost:8080/",
     "height": 49,
     "referenced_widgets": [
      "f9de7dc67272408fba534048999f5ea1",
      "1b494e10415d42e69243d6cba174fd1b",
      "601dd85223e940329543df9e613aa30c",
      "99281a65047b4b3d959f6fb3a866680e",
      "657585e02b344826a2d40c64b90a7eae",
      "5f8c57c2e50446ccbaa634fc04822c23",
      "7e81b2d953e0401fabe89b7dff1baba4",
      "89cd43640999403297becaf1ba0734fd",
      "2e1a558f88d44c2ab6fa7ec5d8a8717e",
      "e496036dcab343429d27778720fd76e3",
      "801dd76c2e1f49a09bbd57c3267946b3"
     ]
    }
   },
   "outputs": [],
   "source": [
    "# 데이터셋을 다시 파이토치 텐서로 변환\n",
    "emotions_encoded.set_format(\"torch\",\n",
    "                            columns=[\"input_ids\", \"attention_mask\", \"label\"])\n",
    "# 손실 값을 계산\n",
    "emotions_encoded[\"validation\"] = emotions_encoded[\"validation\"].map(\n",
    "    forward_pass_with_label, batched=True, batch_size=16)"
   ]
  },
  {
   "cell_type": "markdown",
   "id": "ea9de750",
   "metadata": {},
   "source": [
    "`-` 코드 설명\n",
    "1. 모든 입력 텐서가 모델과 같아야 계산이 가능하기에 같은 장치로 이동\n",
    "2. 입력 데이터를 **inputs으로 모델에 전달 후 가장 높은 logits값을 가진 클래스를 선택한다.\n",
    "3. 이제 loss를 계산하고 평균을 내지 않는 이유는 label마다 loss값의 편차가 있는 것을 확인하기 위해 평균을 내지 않는다.\n",
    "4. 결과를 numpy로 변환. (datasets.map() 함수는 PyTorch 텐서 대신 리스트나 NumPy 배열을 반환해야 함.)\n",
    "5. 손실값을 계산하기 위해 PyTorch 텐서로 전환한다. (batch형태로 계산하기 위해서)\n",
    "\n",
    "## 8. int -> str 변환\n"
   ]
  },
  {
   "cell_type": "code",
   "execution_count": null,
   "id": "040caf27",
   "metadata": {},
   "outputs": [],
   "source": [
    "def label_int2str(row):\n",
    "    return emotions[\"train\"].features[\"label\"].int2str(row)\n",
    "\n",
    "emotions_encoded.set_format(\"pandas\")\n",
    "cols = [\"text\", \"label\", \"predicted_label\", \"loss\"]\n",
    "df_test = emotions_encoded[\"validation\"][:][cols]\n",
    "df_test[\"label\"] = df_test[\"label\"].apply(label_int2str)\n",
    "df_test[\"predicted_label\"] = (df_test[\"predicted_label\"]\n",
    "                              .apply(label_int2str))"
   ]
  },
  {
   "cell_type": "code",
   "execution_count": null,
   "id": "fa165385",
   "metadata": {
    "colab": {
     "base_uri": "https://localhost:8080/",
     "height": 363
    }
   },
   "outputs": [],
   "source": [
    "df_test.sort_values(\"loss\", ascending=False).head(10)"
   ]
  },
  {
   "cell_type": "code",
   "execution_count": null,
   "id": "18912192",
   "metadata": {
    "colab": {
     "base_uri": "https://localhost:8080/",
     "height": 363
    }
   },
   "outputs": [],
   "source": [
    "df_test.sort_values(\"loss\", ascending=True).head(10)"
   ]
  },
  {
   "cell_type": "markdown",
   "id": "ab86d0cd",
   "metadata": {},
   "source": [
    "`-` 코드 설명\n",
    "1. label에 있는 int형 값들을 사람이 알아보기 쉽게 str형태로 바꿔준다.\n",
    "2. 결과를 살펴보면 sadness 레이블들은 loss도 적고 잘 맞추는 것을 알 수 있다.\n",
    "\n",
    "## 9. Save model & Publish\n"
   ]
  },
  {
   "cell_type": "code",
   "execution_count": null,
   "id": "13304880",
   "metadata": {
    "colab": {
     "base_uri": "https://localhost:8080/",
     "height": 160
    }
   },
   "outputs": [],
   "source": [
    "trainer.push_to_hub(commit_message=\"Training completed!\")"
   ]
  },
  {
   "cell_type": "code",
   "execution_count": null,
   "id": "215f4cca",
   "metadata": {
    "colab": {
     "base_uri": "https://localhost:8080/",
     "height": 209,
     "referenced_widgets": [
      "48f05a63756f4c298f6980066f2616f2",
      "eeea0ab821984c7487b7f506f541176e",
      "3eecb25881694f1085c7b455665334a1",
      "2d978397303a45969fa6e823bb4f645c",
      "cc0d0c0b615243a8b5a2466d80e7c699",
      "afcf0bbb44dd46029d1c6f89a31e99f8",
      "031dafbf191949c491a643fe597469fc",
      "64f40e16dd854df786071b33010a02db",
      "aa1daf684ded4d359308a287d0505f05",
      "93e760882fa7459f9b03ca3105961250",
      "862e206ed88c4d93b07f5c7120427136",
      "157f602bf10d4d3cb0ea1f95b719bcce",
      "39f25d7abc7e4f2780c2f8d01e92982e",
      "2e8639d79f3946c881fd873b78381fca",
      "d70fb33c23eb42b89eb213ad4dc4c2eb",
      "9ca8edbf52c045058ade6eddd6654ea6",
      "556c9168eb5f4d209fa175e5af4ad251",
      "57e1f49fcca145b2b88b00c421b740a4",
      "335659cef6194d6195d97a16b955f107",
      "fcb31230eb6e4804b875f7423e860d11",
      "559f475892e24426a2a6042156699046",
      "3906aa095e0348e1a72d996f9f58e0ec",
      "f788b3f2596045db9cfad5dc9b05a2fb",
      "4a4422b475e042419b3e581b644a4615",
      "4c81134b0c064fa188476cd1c926203a",
      "f85c9bac5ded4b29a8d176fa1bf856e8",
      "746c42dc45ae4ee0b1502c2735d152cd",
      "36acb8fe2f8c465cbb68ae53eff9e828",
      "e60299df5d6d4e85bf3b7ba534844816",
      "42b2b3137847415189b81b95f8d30d9b",
      "f068fdce8f5b49ef93c340395e175f94",
      "3ff6cd8921bf428d9b0302fca42acc66",
      "1a4326c6ca1642478e7373beaf386799",
      "354f1a9624114fcfac706ef5d67655fe",
      "56ee62f703f24312ad0cb9e844193e04",
      "07fde0b7e64e42dea8505a397b1bcf63",
      "2c884d2754484fb68195d6677de8617e",
      "791eb78227264102b73f61da51d5adce",
      "7d5771bea2f64724bfd0850b97288286",
      "a146e881e9954f63990165faa61e4296",
      "6314a86d196b47379d24624b518da7f3",
      "89da745df7d74cdc93ecd00e14b97820",
      "fd2ad31a89d04f8f850f43969ed3dc18",
      "c0957d34f32c47329d32feb14e5a5980",
      "c4abe9008bc34ad2ace26857c002b991",
      "a9e8e162de3b4003ae59361d31f9dc65",
      "29534252250442cca0e3eee7aca45fe1",
      "ffc0df1070f74cb5a4e9d5c5af4d3497",
      "f40678dc0b14446b864a7671748d4b36",
      "906857d914b243c78b3fd95d5d8026bd",
      "c379bdd7cf214acfb3d15d5af7576989",
      "e54875c1f942466cb5085e9017fcde90",
      "7730253860fc4218bbe128b5b2804b20",
      "a5db810096fc497fa64dcc9e1b6b0b67",
      "dff5ffc975fb4c1ea900272e608d271a",
      "4b24bdeb4a48439bb0d742a7e8690928",
      "35bd6cb9fe02498baa50a85e49635ba3",
      "4d7cd278888043549766cefdd9689eaa",
      "3cf3a1b8c35d403c80a9605b57eab71a",
      "1eef667ca2f74118969104265d686407",
      "e6e20df03c9d4795ad1d586fc85c8efb",
      "2f3265f502af412bbf904e224f47c113",
      "7f106a65c6204b05b9325a8bebcf93b5",
      "75eb2378d3194d1c83df58ce4844cbdb",
      "63bd4209d9a94126addc705f8a970ecb",
      "bbbee7ef60dc491aacbd4e77002916e8"
     ]
    }
   },
   "outputs": [],
   "source": [
    "from transformers import pipeline\n",
    "\n",
    "model_id = \"SangJinCha/distilbert-base-uncased-finetuned-emotion\"\n",
    "classifier = pipeline(\"text-classification\", model=model_id)"
   ]
  },
  {
   "cell_type": "markdown",
   "id": "d1680d61",
   "metadata": {},
   "source": [
    "이제 모델에 hugging face 사용자 이름을 붙혀서 push 해주면 된다.\n"
   ]
  }
 ],
 "metadata": {
  "kernelspec": {
   "display_name": "Python 3 (ipykernel)",
   "language": "python",
   "name": "python3"
  },
  "language_info": {
   "codemirror_mode": {
    "name": "ipython",
    "version": 3
   },
   "file_extension": ".py",
   "mimetype": "text/x-python",
   "name": "python",
   "nbconvert_exporter": "python",
   "pygments_lexer": "ipython3",
   "version": "3.9.21"
  }
 },
 "nbformat": 4,
 "nbformat_minor": 5
}
