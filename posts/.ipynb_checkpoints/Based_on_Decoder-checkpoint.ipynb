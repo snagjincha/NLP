{
 "cells": [
  {
   "cell_type": "raw",
   "id": "0abe0488-3c7e-486e-9b3f-5e4d5f4f84ad",
   "metadata": {},
   "source": [
    "---\n",
    "title: \"Base on Decoder models\"\n",
    "author: \"차상진\"\n",
    "date: \"2025-03-29\"\n",
    "---"
   ]
  },
  {
   "cell_type": "markdown",
   "id": "a3dfff84-70ea-43ce-aacb-9502c82fd2eb",
   "metadata": {},
   "source": [
    "# 1. Decoder"
   ]
  },
  {
   "cell_type": "markdown",
   "id": "e2edfbc1-7d15-4710-814c-763ce5ddfd94",
   "metadata": {},
   "source": [
    "디코더 기반 모델은 문장 앞부분 일부만을 입력받아 이를 이어서 작성하는 형태이며 이를 자연어 생성이라고도 말한다."
   ]
  },
  {
   "cell_type": "markdown",
   "id": "9e479bf3-5ed6-4869-b0a4-f9890b0e2503",
   "metadata": {},
   "source": [
    "## 1-1. 기본 구조"
   ]
  },
  {
   "cell_type": "markdown",
   "id": "bf745d91-9253-44c8-9abc-3061f3c50289",
   "metadata": {},
   "source": [
    "디코더 기반 모델은 셀프 어텐션, 인코더 참조 어텐션, FFNN으로 이루어진 기존의 트랜스포머 디코더에서 인코더 참조 부분을 제거하여 두 단계로 구성된다.\n",
    "\n",
    "이를 여러 개 레이어로 층층이 쌓은 형태의 모델이 디코더 기반 모델이다.\n",
    "\n",
    "인코더 기반 모델의 주요 task는 완성된 문장을 분석하는 것이기에 이미 완성된 문장이 input으로 입력된다.\n",
    "\n",
    "하지만 디코더 기반 모델의 주요 task는 미완성의 문장을 이어서 작성하는 생성태스크이다.\n",
    "\n",
    "미완성 상태로 작성중인 문장을 실시간으로 확인하며 직접 이어 나가야 하기에 문장 일부만으로 자연스럽게 다음 단어를 예측하는 단방향 형태로 분석한다."
   ]
  },
  {
   "cell_type": "markdown",
   "id": "52e52045-ec34-4e56-b6bc-63490fdb809f",
   "metadata": {},
   "source": [
    "`-` 단방향 형태?\n",
    "\n",
    "디코더 기반 모델은 뒤쪽 단어가 앞쪽 단어에 영향을 미칠 수 없다...더 깊은 이해를 위해 BERT와 GPT를 비교해보자."
   ]
  },
  {
   "cell_type": "markdown",
   "id": "9b414364-8ba6-488f-b0b6-5500aae4e464",
   "metadata": {},
   "source": [
    "## 1-2. BERT vs GPT"
   ]
  },
  {
   "cell_type": "markdown",
   "id": "908d7afb-8164-46b5-baf6-57c014fd9f24",
   "metadata": {},
   "source": [
    "### 1-2-1. BERT (Bidirectional Encoder Representations from Transformers)"
   ]
  },
  {
   "cell_type": "markdown",
   "id": "619d4558-cf8f-4812-9d9e-b3ebd57aceb1",
   "metadata": {},
   "source": [
    "BERT는 Transformer의 인코더 블록을 기반으로 만들어진 모델이다.\n",
    "\n",
    "핵심 특징은 양방향(Bidirectional)으로 문맥을 고려한다는 점이다. 즉, 모든 단어가 앞쪽 + 뒤쪽의 단어를 동시에 참고할 수 있음.\n",
    "\n",
    "예를 들어, 문장이 `\"The cat sat on the mat\"`라면, **`\"cat\"`은 `\"The\"`도 보고 `\"sat\"`도 보면서 문맥을 이해할 수 있음(???)**.  즉, 첫 번째 단어도 마지막 단어에 영향을 미칠 수 있음\n",
    "\n",
    "BERT는 문장의 모든 단어를 한 번에 입력받아 전체 문맥을 학습하기에 첫 번째 단어의 벡터가 마지막 단어 벡터에까지 영향을 미칠 수 있다.\n",
    "\n",
    "**즉, BERT는 문장의 모든 단어가 서로 영향을 주고받을 수 있는 구조다.**"
   ]
  },
  {
   "cell_type": "markdown",
   "id": "4e54346c-448b-4fd9-b6e4-3a7fd88ff00f",
   "metadata": {},
   "source": [
    "`-` `\"cat\"`은 `\"The\"`도 보고 `\"sat\"`도 보면서 문맥을 이해할 수 있음 (???)\n",
    "\n",
    "Q. `cat`이 `\"The\"`도 보고 `\"sat\"`도 보면서 문맥을 이해한다고? 그냥 하나의 단어 아닌가?\n",
    "A. `cat`만 본다면 당연히 고양이라고 생각하지만 어떤 문장에서는 다른 의미 혹은 이름등 함축하고 있는 내용은 고양이와 다를 수 있다. 여기서 self-attention 메커니즘을 적용하면 `sat`, `the`, `on` 등을 보면서 `cat`의 내포 의미를 더 확실하게 파악할 수 있다. 그래서 `cat`이 다른 단어를 보며 문맥을 이해한다고 표현한 것이다."
   ]
  },
  {
   "cell_type": "markdown",
   "id": "a3668f23-d06f-4f00-958d-a87b9dabc26e",
   "metadata": {},
   "source": [
    "### 1-2-2. GPT (Generative Pre-trained Transformer)"
   ]
  },
  {
   "cell_type": "markdown",
   "id": "33acf23e-38a0-4682-89f3-20f140eb046b",
   "metadata": {},
   "source": [
    "GPT는 Transformer의 디코더(Decoder) 블록을 기반으로 만들어진 모델이다.\n",
    "\n",
    "핵심 특징은 단방향(Unidirectional)으로 문맥을 고려한다는 점이다. Self-Attention을 단방향으로 수행하므로 현재 단어보다 앞쪽(이전)에 있는 단어들만 참고할 수 있다.\n",
    "\n",
    "예를 들어, `\"The cat sat on the mat\"`에서 `\"mat\"`을 예측할 때 `\"The cat sat on the\"`까지만 보고 `\"mat\"`을 결정해야 함.\n",
    "\n",
    "반대로 `\"mat\"`이 `\"sat\"`에 영향을 미칠 수는 없음. 즉, 미래 정보는 볼 수 없음\n",
    "\n",
    "GPT는 생성 모델이기 때문에, 문장을 왼쪽에서 오른쪽으로 한 단어씩 생성해야 한다. 만약 오른쪽(뒤쪽)의 단어를 안다면 이미 정답을 알고 있기에 cheating으로 간주된다.\n",
    "\n",
    "따라서 첫 번째 단어는 마지막 단어를 전혀 모름.\n",
    "\n",
    "**즉, GPT는 앞쪽 단어들이 뒤쪽 단어에 영향을 줄 수 있지만, 반대로 뒤쪽 단어가 앞쪽 단어에 영향을 미칠 수 없음!**"
   ]
  },
  {
   "cell_type": "markdown",
   "id": "07b9b1d0-51a1-45b8-94f5-2bd4710650c4",
   "metadata": {},
   "source": [
    "# 2. Casual LM"
   ]
  },
  {
   "cell_type": "markdown",
   "id": "03b3767e-f2b7-40ce-a241-f8a5c48a1d01",
   "metadata": {},
   "source": [
    "`-` 인과적 언어 모델(Casual LM)은 디코더 기반 언어 모델의 시작과 끝이라고 할 수 있는 생성 태스크이다."
   ]
  },
  {
   "cell_type": "markdown",
   "id": "2606d8a4-e6b5-4301-8c2e-28c438d2340c",
   "metadata": {},
   "source": [
    "디코더 생성 모델은 토큰 벡터가 각각 헤더를 지나쳐 출력값을 나타내고 각 출력은 i-1 번째 토큰을 입력받아 예측한 i번째 토큰 확률값이다.\n",
    "\n",
    "**모델이 인식할 수 있는 토큰 중 하나를 예측하기 때문에 각 모델의 출력 크기는 해당 모델의 vocab size와 동일하다.**"
   ]
  },
  {
   "cell_type": "markdown",
   "id": "3fcd6497-7f62-4bb4-87ee-46e80ebd05dd",
   "metadata": {},
   "source": [
    "## 2-1. model"
   ]
  },
  {
   "cell_type": "code",
   "execution_count": 2,
   "id": "dcadb7f6-28e4-4d4b-8814-fab5a6bff0a7",
   "metadata": {},
   "outputs": [
    {
     "data": {
      "text/plain": [
       "GPT2LMHeadModel(\n",
       "  (transformer): GPT2Model(\n",
       "    (wte): Embedding(51200, 768)\n",
       "    (wpe): Embedding(1024, 768)\n",
       "    (drop): Dropout(p=0.1, inplace=False)\n",
       "    (h): ModuleList(\n",
       "      (0-11): 12 x GPT2Block(\n",
       "        (ln_1): LayerNorm((768,), eps=1e-05, elementwise_affine=True)\n",
       "        (attn): GPT2Attention(\n",
       "          (c_attn): Conv1D()\n",
       "          (c_proj): Conv1D()\n",
       "          (attn_dropout): Dropout(p=0.1, inplace=False)\n",
       "          (resid_dropout): Dropout(p=0.1, inplace=False)\n",
       "        )\n",
       "        (ln_2): LayerNorm((768,), eps=1e-05, elementwise_affine=True)\n",
       "        (mlp): GPT2MLP(\n",
       "          (c_fc): Conv1D()\n",
       "          (c_proj): Conv1D()\n",
       "          (dropout): Dropout(p=0.1, inplace=False)\n",
       "        )\n",
       "      )\n",
       "    )\n",
       "    (ln_f): LayerNorm((768,), eps=1e-05, elementwise_affine=True)\n",
       "  )\n",
       "  (lm_head): Linear(in_features=768, out_features=51200, bias=False)\n",
       ")"
      ]
     },
     "execution_count": 2,
     "metadata": {},
     "output_type": "execute_result"
    }
   ],
   "source": [
    "import torch\n",
    "from transformers import AutoTokenizer, AutoModelForCausalLM\n",
    "\n",
    "\n",
    "model_name = \"skt/kogpt2-base-v2\"\n",
    "tokenizer = AutoTokenizer.from_pretrained(\n",
    "    model_name,\n",
    "    bos_token=\"</s>\",\n",
    "    eos_token=\"</s>\",\n",
    "    unk_token=\"<unk>\",\n",
    "    pad_token=\"<pad>\",\n",
    "    mask_token=\"<mask>\"\n",
    ")\n",
    "model = AutoModelForCausalLM.from_pretrained(model_name)\n",
    "model"
   ]
  },
  {
   "cell_type": "markdown",
   "id": "9930451f-2898-45f6-900e-a41ae168cdd3",
   "metadata": {},
   "source": [
    "`-` 모델을 잘 살펴보면 첫 줄의 `Embedding(51200, 768)`과 마지막 줄의 `(lm_head): Linear(in_features=768, out_features=51200, bias=False)`에서 51200으로 숫자가 같은데 이게 우연이 아니다.\n",
    "\n",
    "`!` Embedding(vocab_size , Embedding_dim)으로 이루어지는데 51200개의 단어를 768 길이의 벡터에서 임베딩을 통해 단어를 숫자로 표현하겠다는 의미이다. Embedding_dim이 커질 수록 연산은 증가하지만 더 세심하게 단어들끼리의 차이를 둘 수 있다.\n",
    "\n",
    "위에서 말했듯이 출력 class는 vocab size와 같기에 그래서 51200의 수가 겹치는 것이다."
   ]
  },
  {
   "cell_type": "markdown",
   "id": "ae3736b4-6230-4c9d-ba01-055a8d018d7e",
   "metadata": {},
   "source": [
    "## 2-2. Dataset"
   ]
  },
  {
   "cell_type": "markdown",
   "id": "21ab6564-5823-4c6a-b272-2221feb3479e",
   "metadata": {},
   "source": [
    "`-` 위키 데이터라서 양이 매우 많다. 일부만 뽑아서 사용하자."
   ]
  },
  {
   "cell_type": "code",
   "execution_count": 3,
   "id": "fd9cc60e-176c-4417-9829-b41dcad9afd3",
   "metadata": {},
   "outputs": [
    {
     "data": {
      "text/plain": [
       "DatasetDict({\n",
       "    train: Dataset({\n",
       "        features: ['id', 'revid', 'url', 'title', 'text'],\n",
       "        num_rows: 8000\n",
       "    })\n",
       "    test: Dataset({\n",
       "        features: ['id', 'revid', 'url', 'title', 'text'],\n",
       "        num_rows: 2000\n",
       "    })\n",
       "})"
      ]
     },
     "execution_count": 3,
     "metadata": {},
     "output_type": "execute_result"
    }
   ],
   "source": [
    "from datasets import load_dataset\n",
    "\n",
    "split_dict = {\n",
    "    \"train\": \"train[:8000]\",\n",
    "    \"test\": \"train[8000:10000]\",\n",
    "    \"unused\": \"train[10000:]\",\n",
    "}\n",
    "dataset = load_dataset(\"heegyu/kowikitext\", split=split_dict)\n",
    "del dataset[\"unused\"]\n",
    "dataset"
   ]
  },
  {
   "cell_type": "code",
   "execution_count": 4,
   "id": "fc311a99-03b9-45b9-8847-376caa8ef329",
   "metadata": {},
   "outputs": [
    {
     "data": {
      "text/plain": [
       "DatasetDict({\n",
       "    train: Dataset({\n",
       "        features: ['input_ids', 'attention_mask'],\n",
       "        num_rows: 8000\n",
       "    })\n",
       "    test: Dataset({\n",
       "        features: ['input_ids', 'attention_mask'],\n",
       "        num_rows: 2000\n",
       "    })\n",
       "})"
      ]
     },
     "execution_count": 4,
     "metadata": {},
     "output_type": "execute_result"
    }
   ],
   "source": [
    "tokenized_dataset = dataset.map(\n",
    "    lambda batch: tokenizer([f\"{ti}\\n{te}\" for ti, te in zip(batch[\"title\"], batch[\"text\"])]),\n",
    "    batched=True, # 배치 단위로 데이터를 처리하도록 설정\n",
    "    num_proc=2, # 병렬 처리 개수를 설정 (CPU 코어 2개 사용)\n",
    "    remove_columns=dataset[\"train\"].column_names, # 기존 데이터셋의 컬럼 삭제 -> 토큰화 데이터만 남김\n",
    ")\n",
    "tokenized_dataset"
   ]
  },
  {
   "cell_type": "markdown",
   "id": "cca454a2-d2c9-4b14-a98c-fb9022c087c1",
   "metadata": {},
   "source": [
    "## 2-3. Preprocessing"
   ]
  },
  {
   "cell_type": "code",
   "execution_count": 5,
   "id": "d9383290-f8b1-4786-b8aa-6e915d33753c",
   "metadata": {},
   "outputs": [
    {
     "name": "stdout",
     "output_type": "stream",
     "text": [
      "512\n",
      "DatasetDict({\n",
      "    train: Dataset({\n",
      "        features: ['input_ids', 'attention_mask'],\n",
      "        num_rows: 18365\n",
      "    })\n",
      "    test: Dataset({\n",
      "        features: ['input_ids', 'attention_mask'],\n",
      "        num_rows: 2400\n",
      "    })\n",
      "})\n"
     ]
    }
   ],
   "source": [
    "max_length = 512 # 문장의 최대길이\n",
    "def group_texts(batched_sample):\n",
    "    sample = {k: v[0] for k, v in batched_sample.items()}\n",
    "\n",
    "    if sample[\"input_ids\"][-1] != tokenizer.eos_token_id: # sample['input_ids']의 마지막 토큰이 eos 토큰이 아닌 경우에만 실행된다.\n",
    "        for k in sample.keys():\n",
    "            sample[k].append(\n",
    "                tokenizer.eos_token_id if k == \"input_ids\" else sample[k][-1] # input_ids 키인 경우에는 eos_token_id를 추가한다.\n",
    "            )\n",
    "\n",
    "    result = {k: [v[i: i + max_length] for i in range(0, len(v), max_length)] for k, v in sample.items()}\n",
    "    return result\n",
    "\n",
    "grouped_dataset = tokenized_dataset.map(\n",
    "    group_texts,\n",
    "    batched=True, # 입력 데이터가 배치 단위로 전달됨\n",
    "    batch_size=1, # 한 번에 1개의 데이터만 처리\n",
    "    num_proc=2,\n",
    ")\n",
    "print(len(grouped_dataset[\"train\"][0][\"input_ids\"]))\n",
    "print(grouped_dataset)"
   ]
  },
  {
   "cell_type": "markdown",
   "id": "d26c3e8e-dd1e-462a-833e-deafe316af39",
   "metadata": {},
   "source": [
    "`-` 데이터에 정답 데이터인 labels 칼럼이 존재하지 않는다. (디코더 기반이니까)\n",
    "\n",
    "디코더 기반 모델 생성태스크에서는 labels 데이터를 따로 작성하지 않고 input_ids에 모두 포함한다.\n",
    "\n",
    "-> 입력된 문장을 한 칸 이동시킨 값을 정답으로 사용함. (기술적 이유로 labels 칼럼은 추가해야하기에 콜레이터를 사용해 정답 label이 없는 것을 해결한다.)"
   ]
  },
  {
   "cell_type": "markdown",
   "id": "a4cebe00-ce91-4e32-ac3e-8ea089982c45",
   "metadata": {},
   "source": [
    "## 2-4. DataCollator"
   ]
  },
  {
   "cell_type": "markdown",
   "id": "092afbba-1c52-4098-967f-88528ac34c23",
   "metadata": {},
   "source": [
    "`DataCollator`는 배치 내에서 sample을 패딩하거나, 마스킹을 적용하는 역할을 한다."
   ]
  },
  {
   "cell_type": "code",
   "execution_count": 10,
   "id": "be25880a-3c4f-413e-8729-74bcb826af26",
   "metadata": {},
   "outputs": [],
   "source": [
    "from transformers import DataCollatorForLanguageModeling\n",
    "\n",
    "collator = DataCollatorForLanguageModeling(tokenizer=tokenizer, mlm=False) # mlml = False: 마스크드 언어 모델링을 사용하지 않겠다는 의미\n",
    "# mlm=True로 설정한다면 일부 토큰을 [MASK]로 변환하여 원래 단어를 맞추도록 학습하는 방식이다. 이것은 인코더 기반의 BERT가 학습하는 방식이므로 지금은 False로 설정한다.\n",
    "sample = collator([grouped_dataset[\"train\"][i] for i in range(1)])\n",
    "# 위에서 데이터 전처리할 때 batch_size = 1이므로 range(1)로 설정했다. 만약 batch를 늘리고싶다면 range(???) ???을 늘리면 된다."
   ]
  },
  {
   "cell_type": "markdown",
   "id": "12acec4f-860f-48c1-ab45-51468988e01a",
   "metadata": {},
   "source": [
    "## 2-5. Evaluate"
   ]
  },
  {
   "cell_type": "markdown",
   "id": "34ace331-4ac7-4b67-b8de-212a040a5022",
   "metadata": {},
   "source": [
    "문장 생성 태스크는 일반적으로 학습 도중 평가를 진행하기 어렵다."
   ]
  },
  {
   "cell_type": "markdown",
   "id": "263f6745-2e5f-4974-85ab-de8ad703e407",
   "metadata": {},
   "source": [
    "### 이유"
   ]
  },
  {
   "cell_type": "markdown",
   "id": "97003c8e-6ca6-41d9-9a5a-3e3aefa5f132",
   "metadata": {},
   "source": [
    "1. 일반적인 모델은 **입력 -> 출력 1번**의 과정이다. 하지만 생성모델은 **한 문장을 만들기 위해 여러 번 추론해야함**.\n",
    "   \n",
    "- 일반적 모델: `I go school` -> (긍정)\n",
    "\n",
    "- 생성모델: 'I` -> 'I go' -> 'I go school` (여러번 추론이 필요!)"
   ]
  },
  {
   "cell_type": "markdown",
   "id": "464d4aa1-f0a2-4513-bee3-4a109546a12e",
   "metadata": {},
   "source": [
    "2. 생성 모델은 한 번에 몇 번 추론할지 정해져 있지 않음!\n",
    "- 당연하다. 문장이 언제 끝날지 생성모델은 알 수 없다. (미래를 모르기 때문에)"
   ]
  },
  {
   "cell_type": "markdown",
   "id": "98219215-0d6c-4722-99c4-bf7f8a174ec7",
   "metadata": {},
   "source": [
    "3. 정답과 비교하는 방식이 다르다.\n",
    "\n",
    "- 일반적인 모델은 실수 값을 출력하므로 산술 연산을 이용해 정답과 비교가 가능하다.\n",
    "\n",
    "- 하지만 생성 모델은 **정수 리스트로(토큰 ID 리스트)**를 출력하기에 비교 방식이 다르다.\n",
    "\n",
    "- 모델 출력: `[12,34,56,78]` 정답: `[12,34,90,66]`\n",
    "\n",
    "- 두 리스트를 **논리 연산**으로 맞는지 평가해야 한다."
   ]
  },
  {
   "cell_type": "markdown",
   "id": "bdbdb066-abb2-437c-a5a8-2e8cd145deb5",
   "metadata": {},
   "source": [
    "4. 길이가 다 달라서 한 번에 처리하기 어렵다.\n",
    "\n",
    "- 감정 분석같은 일반적 모델은 **항상 일정한 출력**이 나오므로 한 번에 배치 처리가 가능하다.\n",
    "- 하지만 생성 모델은 출력되는 문장의 길이가 다 다르다.\n",
    "    - `I go school`\n",
    "    - `I go shcool to meet my friend`\n",
    "    - `nice to meet you`\n",
    "- 이렇게 길이가 다 다르면 **한 번에 배치로 비교하기 어려움**"
   ]
  },
  {
   "cell_type": "markdown",
   "id": "bcac6eda-78b6-41dc-93f6-208f385c5dd7",
   "metadata": {},
   "source": [
    "## 2-6. Generate sentence"
   ]
  },
  {
   "cell_type": "code",
   "execution_count": 14,
   "id": "4e4c1002-975a-4490-8c48-e3fd16eab5ba",
   "metadata": {},
   "outputs": [
    {
     "name": "stdout",
     "output_type": "stream",
     "text": [
      "지난해 7월, 롯데백화점 본점 지하 1층 식품매장에서 판매된 '롯\n"
     ]
    }
   ],
   "source": [
    "inputs = tokenizer(\"지난해 7월, \", return_tensors=\"pt\").to(model.device)\n",
    "\n",
    "outputs = model.generate(inputs.input_ids, max_new_tokens=100)\n",
    "result = tokenizer.batch_decode(outputs, skip_special_tokens=True)\n",
    "print(result[0])"
   ]
  },
  {
   "cell_type": "markdown",
   "id": "1f4e0206-3fb3-4dcf-a297-71f51922d854",
   "metadata": {},
   "source": [
    "max_new_tokens = 100 때문에 길이를 초과할 수 없음."
   ]
  },
  {
   "cell_type": "code",
   "execution_count": 15,
   "id": "2f052d55-c12e-4bb0-97cf-904a3b15c058",
   "metadata": {},
   "outputs": [
    {
     "name": "stdout",
     "output_type": "stream",
     "text": [
      "지난해 7월, 롯데백화점 본점 지하 1층 식품매장에서 판매된 '롯데 햄버거' 제품에서 대장균이 검출돼 판매 중단된 바 있다.\n",
      "롯데백화점 측은 \"햄버거 판매 중단은 롯데백화점 본점 식품매장의 위생과 안전관리에 대한 고객들의 신뢰가 크게 훼손된 데 따른 것\"이라며 \"롯데백화점 본점 식품매장은 햄버거 판매 중단을 즉각 중단하고, 롯데백화점 본점 식품\n"
     ]
    }
   ],
   "source": [
    "import torch\n",
    "\n",
    "input_ids = tokenizer(\"지난해 7월, \", return_tensors=\"pt\").to(model.device).input_ids\n",
    "\n",
    "with torch.no_grad():\n",
    "    for _ in range(100):\n",
    "        next_token = model(input_ids).logits[0, -1:].argmax(-1)\n",
    "        input_ids = torch.cat((input_ids[0], next_token), -1).unsqueeze(0)\n",
    "\n",
    "print(tokenizer.decode(input_ids[0].tolist()))"
   ]
  },
  {
   "cell_type": "markdown",
   "id": "878c13fe-6890-4bd1-9497-cd601c99aaaf",
   "metadata": {},
   "source": [
    "EOS 토큰을 만나도 100번 반복. for _ in range(100)은 100번 실행된다는 보장만 있을 뿐, 문장이 길어지는 걸 막지 않는다. 실제로 생성된 토큰 개수가 100개를 초과할 수 있음."
   ]
  },
  {
   "cell_type": "markdown",
   "id": "0a8b8897-4662-470a-9bfe-06822dbf6863",
   "metadata": {},
   "source": [
    "`결론`\n",
    "\n",
    "첫 번째 코드는 강제 제한이 있지만 두 번째 코드는 100번 반복하면서 문장이 더 길어질 가능성이 높음."
   ]
  },
  {
   "cell_type": "markdown",
   "id": "95c0ebaa-e74e-40fb-994f-a826f4459b83",
   "metadata": {},
   "source": [
    "# 3. Sequence Classifiation"
   ]
  },
  {
   "cell_type": "markdown",
   "id": "2f256713-752a-414c-8c2f-fbdf62dc6841",
   "metadata": {},
   "source": [
    "`-` 디코더 기반 모델 특징\n",
    "\n",
    "- 모델에 입력되는 문장 길이가 모두 달라 여러 개를 동시에 처리하기 어렵다. 이를 해결하기 위해 패딩 토큰([PAD])을 사용해 배치로 입력되는 데이터는 길이를 맞춰야한다."
   ]
  },
  {
   "cell_type": "markdown",
   "id": "82e20c34-9723-46da-823c-d9d1dd5f36d5",
   "metadata": {},
   "source": [
    "## 3-1. model"
   ]
  },
  {
   "cell_type": "code",
   "execution_count": 17,
   "id": "960b0a99-d7b6-40a1-9a02-3677760bab68",
   "metadata": {},
   "outputs": [
    {
     "name": "stderr",
     "output_type": "stream",
     "text": [
      "Some weights of the model checkpoint at skt/kogpt2-base-v2 were not used when initializing GPT2ForSequenceClassification: ['lm_head.weight']\n",
      "- This IS expected if you are initializing GPT2ForSequenceClassification from the checkpoint of a model trained on another task or with another architecture (e.g. initializing a BertForSequenceClassification model from a BertForPreTraining model).\n",
      "- This IS NOT expected if you are initializing GPT2ForSequenceClassification from the checkpoint of a model that you expect to be exactly identical (initializing a BertForSequenceClassification model from a BertForSequenceClassification model).\n",
      "Some weights of GPT2ForSequenceClassification were not initialized from the model checkpoint at skt/kogpt2-base-v2 and are newly initialized: ['score.weight']\n",
      "You should probably TRAIN this model on a down-stream task to be able to use it for predictions and inference.\n"
     ]
    },
    {
     "data": {
      "text/plain": [
       "GPT2ForSequenceClassification(\n",
       "  (transformer): GPT2Model(\n",
       "    (wte): Embedding(51200, 768)\n",
       "    (wpe): Embedding(1024, 768)\n",
       "    (drop): Dropout(p=0.1, inplace=False)\n",
       "    (h): ModuleList(\n",
       "      (0-11): 12 x GPT2Block(\n",
       "        (ln_1): LayerNorm((768,), eps=1e-05, elementwise_affine=True)\n",
       "        (attn): GPT2Attention(\n",
       "          (c_attn): Conv1D()\n",
       "          (c_proj): Conv1D()\n",
       "          (attn_dropout): Dropout(p=0.1, inplace=False)\n",
       "          (resid_dropout): Dropout(p=0.1, inplace=False)\n",
       "        )\n",
       "        (ln_2): LayerNorm((768,), eps=1e-05, elementwise_affine=True)\n",
       "        (mlp): GPT2MLP(\n",
       "          (c_fc): Conv1D()\n",
       "          (c_proj): Conv1D()\n",
       "          (dropout): Dropout(p=0.1, inplace=False)\n",
       "        )\n",
       "      )\n",
       "    )\n",
       "    (ln_f): LayerNorm((768,), eps=1e-05, elementwise_affine=True)\n",
       "  )\n",
       "  (score): Linear(in_features=768, out_features=2, bias=False)\n",
       ")"
      ]
     },
     "execution_count": 17,
     "metadata": {},
     "output_type": "execute_result"
    }
   ],
   "source": [
    "import torch\n",
    "from transformers import AutoTokenizer, AutoModelForSequenceClassification\n",
    "\n",
    "model_name = \"skt/kogpt2-base-v2\"\n",
    "tokenizer = AutoTokenizer.from_pretrained(\n",
    "    model_name,\n",
    "    bos_token=\"</s>\",\n",
    "    eos_token=\"</s>\",\n",
    "    unk_token=\"<unk>\",\n",
    "    pad_token=\"<pad>\",\n",
    "    mask_token=\"<mask>\"\n",
    ")\n",
    "model = AutoModelForSequenceClassification.from_pretrained(model_name, num_labels=2)\n",
    "model"
   ]
  },
  {
   "cell_type": "markdown",
   "id": "2e40f4da-220d-41bd-b7ce-6ccc8e966da9",
   "metadata": {},
   "source": [
    "`-` out_features = 2 $\\rightarrow$ 이진분류"
   ]
  },
  {
   "cell_type": "markdown",
   "id": "de9e726e-31d3-4609-a4e6-196e81bfb1c7",
   "metadata": {},
   "source": [
    "## 3-2. Dataset"
   ]
  },
  {
   "cell_type": "code",
   "execution_count": 18,
   "id": "46fb75bd-3b87-44e1-9859-a356ee326b71",
   "metadata": {},
   "outputs": [
    {
     "data": {
      "application/vnd.jupyter.widget-view+json": {
       "model_id": "3e8466b292914dd9810401ec7d18af2d",
       "version_major": 2,
       "version_minor": 0
      },
      "text/plain": [
       "Map:   0%|          | 0/11668 [00:00<?, ? examples/s]"
      ]
     },
     "metadata": {},
     "output_type": "display_data"
    },
    {
     "data": {
      "application/vnd.jupyter.widget-view+json": {
       "model_id": "a955f77425a84bd89908a510925ba761",
       "version_major": 2,
       "version_minor": 0
      },
      "text/plain": [
       "Map:   0%|          | 0/519 [00:00<?, ? examples/s]"
      ]
     },
     "metadata": {},
     "output_type": "display_data"
    }
   ],
   "source": [
    "from datasets import load_dataset\n",
    "\n",
    "dataset = load_dataset(\"klue\", \"sts\")\n",
    "\n",
    "def process_data(batch):\n",
    "  result = tokenizer(batch[\"sentence1\"], text_pair=batch[\"sentence2\"])\n",
    "  result[\"labels\"] = [x[\"binary-label\"] for x in batch[\"labels\"]]\n",
    "  return result\n",
    "\n",
    "dataset = dataset.map(process_data, batched=True, remove_columns=dataset[\"train\"].column_names)"
   ]
  },
  {
   "cell_type": "markdown",
   "id": "1563c772-8dbd-4852-9c81-9e62725fda1e",
   "metadata": {},
   "source": [
    "## 3-3. DataCollator"
   ]
  },
  {
   "cell_type": "code",
   "execution_count": 20,
   "id": "39eb1c66-b2bc-4794-8897-a4c21b043ab9",
   "metadata": {},
   "outputs": [],
   "source": [
    "from transformers import DataCollatorWithPadding # 패딩만을 진행하는 DataCollatorWithPadding 사용\n",
    "\n",
    "collator = DataCollatorWithPadding(tokenizer)\n",
    "batch = collator([dataset[\"train\"][i] for i in range(4)])"
   ]
  },
  {
   "cell_type": "markdown",
   "id": "b336fb32-1349-47f8-b899-3eac8c9fd5b4",
   "metadata": {},
   "source": [
    "## 3-4. Predictions"
   ]
  },
  {
   "cell_type": "code",
   "execution_count": 21,
   "id": "6f167c46-f8d5-496d-98c3-c4a9b2251ad5",
   "metadata": {},
   "outputs": [
    {
     "data": {
      "text/plain": [
       "tensor([[ 0.5085, -0.4168],\n",
       "        [-0.1568, -0.9897],\n",
       "        [ 1.4718, -0.7141],\n",
       "        [ 0.5799, -0.3399]])"
      ]
     },
     "execution_count": 21,
     "metadata": {},
     "output_type": "execute_result"
    }
   ],
   "source": [
    "with torch.no_grad():\n",
    "    logits = model(**batch).logits\n",
    "\n",
    "logits"
   ]
  },
  {
   "cell_type": "markdown",
   "id": "9bf0b5c5-c635-4b3c-9b09-57fc7961a126",
   "metadata": {},
   "source": [
    "## 3-5. Evaluate"
   ]
  },
  {
   "cell_type": "code",
   "execution_count": 22,
   "id": "1a5a8e5a-458d-4035-bf6c-acfef54dcbe3",
   "metadata": {},
   "outputs": [
    {
     "data": {
      "text/plain": [
       "{'f1': 0.75}"
      ]
     },
     "execution_count": 22,
     "metadata": {},
     "output_type": "execute_result"
    }
   ],
   "source": [
    "import evaluate\n",
    "\n",
    "f1 = evaluate.load('f1')\n",
    "f1.compute(predictions = logits.argmax(-1), references = batch['labels'], average = 'micro')"
   ]
  }
 ],
 "metadata": {
  "kernelspec": {
   "display_name": "Python 3 (ipykernel)",
   "language": "python",
   "name": "python3"
  },
  "language_info": {
   "codemirror_mode": {
    "name": "ipython",
    "version": 3
   },
   "file_extension": ".py",
   "mimetype": "text/x-python",
   "name": "python",
   "nbconvert_exporter": "python",
   "pygments_lexer": "ipython3",
   "version": "3.13.2"
  }
 },
 "nbformat": 4,
 "nbformat_minor": 5
}
