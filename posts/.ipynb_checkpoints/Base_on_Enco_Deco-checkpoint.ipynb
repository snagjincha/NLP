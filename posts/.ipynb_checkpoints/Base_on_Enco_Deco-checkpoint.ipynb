{
 "cells": [
  {
   "cell_type": "raw",
   "id": "4829c16f-a022-47b6-8e92-67e3950882bc",
   "metadata": {},
   "source": [
    "---\n",
    "title: \"Base on Encoder-Decoder models\"\n",
    "author: \"차상진\"\n",
    "date: \"2025-04-01\"\n",
    "---"
   ]
  },
  {
   "cell_type": "markdown",
   "id": "a494e576-29d0-4c3e-978b-f05949b98952",
   "metadata": {},
   "source": [
    "# 1. Encoder-Decoder model"
   ]
  },
  {
   "cell_type": "markdown",
   "id": "4e500cce-89c7-4289-a9ce-69c9a397fdb5",
   "metadata": {},
   "source": [
    "`-` 인코더-디코더 기반 모델은 완성된 문장을 이어받아 입력과는 완전히 다른 새로운 문장을 생성하는 것을 목적으로 한다.\n",
    "\n",
    "`-` 디코더 기반 모델의 자연어 생성과 비슷하지만 입력된 문장을 이어 나가는 디코더 기반 모델과는 달리 완전히 새로운 문장을 작성한다는 차이가 있다.\n",
    "\n",
    "일반적으로 기계 번역이나 요약에 사용된다."
   ]
  },
  {
   "cell_type": "markdown",
   "id": "331d9e1d-4289-4ffe-be85-11143ed355b8",
   "metadata": {},
   "source": [
    "## 1-1. BART"
   ]
  },
  {
   "cell_type": "markdown",
   "id": "2a1e6b76-c688-4b63-bc09-fe9edd5538d8",
   "metadata": {},
   "source": [
    "`-`BART의 학습 방법"
   ]
  },
  {
   "cell_type": "markdown",
   "id": "4670bc4a-538d-4435-a942-a74fe06c589d",
   "metadata": {},
   "source": [
    "### 1. 토큰 마스킹"
   ]
  },
  {
   "cell_type": "markdown",
   "id": "daa354ce-f103-47b9-bc85-eb72ba9b2496",
   "metadata": {},
   "source": [
    "BERT에서 사용헸던 일반적인 Masked LM과 동일하다."
   ]
  },
  {
   "cell_type": "markdown",
   "id": "c5086906-f35e-4f7d-9f16-b356bb080950",
   "metadata": {},
   "source": [
    "### 2. 토큰 삭제"
   ]
  },
  {
   "cell_type": "markdown",
   "id": "ef2f4e1e-f247-4c25-828b-6467049ff6b5",
   "metadata": {},
   "source": [
    "랜덤한 토큰을 삭제하고 이를 복구한다. 마스킹 방법은 특정 토큰을 [MASK]로 변경하기에 어떤 위치의 토큰이 사라졌는지 알지만 토큰 삭제는 어떤 위치의 토큰이 사라졌는지 알 수 없다."
   ]
  },
  {
   "cell_type": "markdown",
   "id": "7bd1984d-4ecc-4c18-8c76-a135467c0440",
   "metadata": {},
   "source": [
    "### 3. 텍스트 채우기"
   ]
  },
  {
   "cell_type": "markdown",
   "id": "861b7f49-9e7a-42e2-912e-acbe70657bb9",
   "metadata": {},
   "source": [
    "입력 문장 중, 연속되는 토큰 몇 개를 묶어 토큰 뭉치를 생성하여 그 범위를 [MASK] 토큰으로 치환한다. 이때, 토큰 뭉치 길이는 포아송 분포를 따르며 길이가 0 or 2이상이다. 길이가 0인 경우 정상 문장에서 [MASK] 토큰만 생성되고 2 이상인 경우 여러 토큰이 하나의 [MASK] 토큰으로 바뀌게 된다. 따라서 모델이 범위에서 누락된 토큰 수에 대해서도 학습할 수 있도록 한다"
   ]
  },
  {
   "cell_type": "markdown",
   "id": "87a6182e-e002-4bd1-8865-2f90b5ba834c",
   "metadata": {},
   "source": [
    "**3. 텍스트 채우기 보충 설명**"
   ]
  },
  {
   "cell_type": "markdown",
   "id": "e9ea7db4-5325-4663-89b2-9837afaefc2f",
   "metadata": {},
   "source": [
    "`-` 왜 포아송 분포(Poisson Distribution)을 따르는가?\n",
    "\n",
    "*먼저 포아송 분포에 대한 이해를 해보자.*\n",
    "\n",
    "**포아송 분포: 시간이 지남에 따라 일어나는 특정한 사건 A의 발생횟수의 분포**\n",
    "\n",
    "즉 포아송 분포는 평균 발생 횟수를 기반으로 사건이 발생할 횟수가 결정된다.\n",
    "\n",
    "BART는 입력 문장에서 일부 단어나 토큰을 무작위로 마스킹 처리하는데 정말 무작위로 선택하여 Masking 하는 것이 아니고 포아송 분포를 따르면서 Masking 할 토큰을 찾는데 그 이유는 Masking 할 토큰의 수가 예측 불가능하고, 일정한 평균 빈도수로 선택되도록 하기 위해 사용된다.\n",
    "\n",
    "위에서 언급했듯이 포아송 분포는 평균적으로 몇 개의 토큰이 Masking될지 예측할 수 있지만, 실제로 Masking 될 토큰의 수는 확률적으로 결정된다.\n",
    "\n",
    "- 길이가 0인 경우: 정상 문장에서 [MASK] 토큰만 생성됨\n",
    "- 길이가 2인 경우: 여러 개의 연속된 토큰이 하나의 [MASK] 토큰으로 치환된다. **이 때!! 마스킹된 범위의 길이는 포아송 분포에 따라 결정된다.** (평균이 몇인지에 따라 다르겠지만 대부분 확률은 매우 낮음)\n",
    "\n",
    "포아송 분포는 모델이 일부 연속적인 토큰들을 마스킹하면서도 문맥 정보를 이해하고, 누락된 토큰을 예측하는 데 도움이 되도록 설계되었다."
   ]
  },
  {
   "cell_type": "markdown",
   "id": "16ccc0e6-c58e-46cd-aa0c-a699fe68ddeb",
   "metadata": {},
   "source": [
    "### 4. 문장 순서 바꾸기"
   ]
  },
  {
   "cell_type": "markdown",
   "id": "cd00d9d0-346c-4e8d-b745-2b03056a4cd8",
   "metadata": {},
   "source": [
    "입력 문서를 문장 단위로 분할하고 문장의 순서를 무작위로 섞는다."
   ]
  },
  {
   "cell_type": "markdown",
   "id": "9f983b02-0102-4a5c-ac9f-631d9790c932",
   "metadata": {},
   "source": [
    "### 5. 문서 회전"
   ]
  },
  {
   "cell_type": "markdown",
   "id": "aeb216b3-16c1-4486-b4ab-f8848cbc4019",
   "metadata": {},
   "source": [
    "입력 문장 중, 토큰 하나를 무작위로 정해 해당 토큰이 문장의 시작이 되도록 해당 문장 토큰을 밀어낸다. 시작 토큰 앞에 있던 토큰은 맨 뒤로 이동한다."
   ]
  },
  {
   "cell_type": "markdown",
   "id": "d54994bb-c5f3-4f6c-bef7-af7ef9bc1392",
   "metadata": {},
   "source": [
    "# 2. Conditional Generation"
   ]
  },
  {
   "cell_type": "markdown",
   "id": "4bfdcba5-0d4f-41ae-8a8e-e799e9f5eed1",
   "metadata": {},
   "source": [
    "어떤 문장이 주어졌을 때 해당 문장을 기반으로 새로운 문장을 작성하는 task를 허깅페이스에서는 조건부 생성(conditional generation)이라고 한다."
   ]
  },
  {
   "cell_type": "markdown",
   "id": "0946d933-1223-4c82-ac6c-0da422f7ecc2",
   "metadata": {},
   "source": [
    "`-` 수식\n",
    "\n",
    "수식이라고 할 것도 없을정도로 매우 간단하지만..."
   ]
  },
  {
   "cell_type": "markdown",
   "id": "0815ef94-86b3-48dc-8899-a6da2fabac67",
   "metadata": {},
   "source": [
    "`-` 조건부 생성의 기본 idea\n",
    "\n",
    "조건부 생성은 주어진 입력 조건 $x$에 대해 출력 $y$를 생성하는 문제이다. 즉, 입력 $x$가 주어졌을 때, $y$를 생성하는 확률 분포를 모델링하는 것이다."
   ]
  },
  {
   "cell_type": "markdown",
   "id": "862f90d7-ac87-48fc-b4ff-3d1b3d053d88",
   "metadata": {},
   "source": [
    "조건부 생성은 일반적으로 조건부 확률을 모델링 한다.\n",
    "$$\n",
    "P(y | x)\n",
    "$$"
   ]
  },
  {
   "cell_type": "markdown",
   "id": "68a81140-7fd5-4052-b6d4-5f39d57433ce",
   "metadata": {},
   "source": [
    "- $y$: 생성할 출력 데이터 (ex: 텍스트, 이미지)\n",
    "- $x$: 주어진 정보 (ex: 텍스트의 시작 부분, 특정 키워드, 이미지 설명)"
   ]
  },
  {
   "cell_type": "markdown",
   "id": "4f63b05a-22b8-43f7-b619-74cfaac75567",
   "metadata": {},
   "source": [
    "일반적으로 다음의 수식을 따른다.\n",
    "$$\n",
    "\\hat{y} = argmax_yP(y|x)\n",
    "$$"
   ]
  },
  {
   "cell_type": "markdown",
   "id": "a37c91ec-17f3-4eef-8a0d-f7b8cce7c730",
   "metadata": {},
   "source": [
    "## 2-1. model"
   ]
  },
  {
   "cell_type": "code",
   "execution_count": 1,
   "id": "ece1e766-472a-45d6-a78d-0a2e02d98e53",
   "metadata": {},
   "outputs": [
    {
     "data": {
      "application/vnd.jupyter.widget-view+json": {
       "model_id": "5211bc36d6cc4a83936589211f8d4460",
       "version_major": 2,
       "version_minor": 0
      },
      "text/plain": [
       "tokenizer_config.json:   0%|          | 0.00/337 [00:00<?, ?B/s]"
      ]
     },
     "metadata": {},
     "output_type": "display_data"
    },
    {
     "data": {
      "application/vnd.jupyter.widget-view+json": {
       "model_id": "f4c8e39102f945a5954aaab375b7dfac",
       "version_major": 2,
       "version_minor": 0
      },
      "text/plain": [
       "tokenizer.json:   0%|          | 0.00/1.05M [00:00<?, ?B/s]"
      ]
     },
     "metadata": {},
     "output_type": "display_data"
    },
    {
     "data": {
      "application/vnd.jupyter.widget-view+json": {
       "model_id": "1305f49567ca408687c1bd4e76e9df22",
       "version_major": 2,
       "version_minor": 0
      },
      "text/plain": [
       "special_tokens_map.json:   0%|          | 0.00/109 [00:00<?, ?B/s]"
      ]
     },
     "metadata": {},
     "output_type": "display_data"
    },
    {
     "data": {
      "application/vnd.jupyter.widget-view+json": {
       "model_id": "5caa471d77ba4db9bc7d984f6fe42ccb",
       "version_major": 2,
       "version_minor": 0
      },
      "text/plain": [
       "config.json:   0%|          | 0.00/1.38k [00:00<?, ?B/s]"
      ]
     },
     "metadata": {},
     "output_type": "display_data"
    },
    {
     "name": "stderr",
     "output_type": "stream",
     "text": [
      "You passed along `num_labels=3` with an incompatible id to label map: {'0': 'NEGATIVE', '1': 'POSITIVE'}. The number of labels will be overwritten to 2.\n",
      "2025-04-01 07:39:17.432468: E external/local_xla/xla/stream_executor/cuda/cuda_fft.cc:467] Unable to register cuFFT factory: Attempting to register factory for plugin cuFFT when one has already been registered\n",
      "WARNING: All log messages before absl::InitializeLog() is called are written to STDERR\n",
      "E0000 00:00:1743493157.447473   60530 cuda_dnn.cc:8579] Unable to register cuDNN factory: Attempting to register factory for plugin cuDNN when one has already been registered\n",
      "E0000 00:00:1743493157.452654   60530 cuda_blas.cc:1407] Unable to register cuBLAS factory: Attempting to register factory for plugin cuBLAS when one has already been registered\n",
      "W0000 00:00:1743493157.466293   60530 computation_placer.cc:177] computation placer already registered. Please check linkage and avoid linking the same target more than once.\n",
      "W0000 00:00:1743493157.466309   60530 computation_placer.cc:177] computation placer already registered. Please check linkage and avoid linking the same target more than once.\n",
      "W0000 00:00:1743493157.466311   60530 computation_placer.cc:177] computation placer already registered. Please check linkage and avoid linking the same target more than once.\n",
      "W0000 00:00:1743493157.466313   60530 computation_placer.cc:177] computation placer already registered. Please check linkage and avoid linking the same target more than once.\n",
      "2025-04-01 07:39:17.470692: I tensorflow/core/platform/cpu_feature_guard.cc:210] This TensorFlow binary is optimized to use available CPU instructions in performance-critical operations.\n",
      "To enable the following instructions: AVX2 FMA, in other operations, rebuild TensorFlow with the appropriate compiler flags.\n"
     ]
    },
    {
     "data": {
      "application/vnd.jupyter.widget-view+json": {
       "model_id": "d755b98b25b1467682d4f3c793339f26",
       "version_major": 2,
       "version_minor": 0
      },
      "text/plain": [
       "pytorch_model.bin:   0%|          | 0.00/496M [00:00<?, ?B/s]"
      ]
     },
     "metadata": {},
     "output_type": "display_data"
    },
    {
     "data": {
      "text/plain": [
       "BartForConditionalGeneration(\n",
       "  (model): BartModel(\n",
       "    (shared): BartScaledWordEmbedding(30000, 768, padding_idx=3)\n",
       "    (encoder): BartEncoder(\n",
       "      (embed_tokens): BartScaledWordEmbedding(30000, 768, padding_idx=3)\n",
       "      (embed_positions): BartLearnedPositionalEmbedding(1028, 768)\n",
       "      (layers): ModuleList(\n",
       "        (0-5): 6 x BartEncoderLayer(\n",
       "          (self_attn): BartSdpaAttention(\n",
       "            (k_proj): Linear(in_features=768, out_features=768, bias=True)\n",
       "            (v_proj): Linear(in_features=768, out_features=768, bias=True)\n",
       "            (q_proj): Linear(in_features=768, out_features=768, bias=True)\n",
       "            (out_proj): Linear(in_features=768, out_features=768, bias=True)\n",
       "          )\n",
       "          (self_attn_layer_norm): LayerNorm((768,), eps=1e-05, elementwise_affine=True)\n",
       "          (activation_fn): GELUActivation()\n",
       "          (fc1): Linear(in_features=768, out_features=3072, bias=True)\n",
       "          (fc2): Linear(in_features=3072, out_features=768, bias=True)\n",
       "          (final_layer_norm): LayerNorm((768,), eps=1e-05, elementwise_affine=True)\n",
       "        )\n",
       "      )\n",
       "      (layernorm_embedding): LayerNorm((768,), eps=1e-05, elementwise_affine=True)\n",
       "    )\n",
       "    (decoder): BartDecoder(\n",
       "      (embed_tokens): BartScaledWordEmbedding(30000, 768, padding_idx=3)\n",
       "      (embed_positions): BartLearnedPositionalEmbedding(1028, 768)\n",
       "      (layers): ModuleList(\n",
       "        (0-5): 6 x BartDecoderLayer(\n",
       "          (self_attn): BartSdpaAttention(\n",
       "            (k_proj): Linear(in_features=768, out_features=768, bias=True)\n",
       "            (v_proj): Linear(in_features=768, out_features=768, bias=True)\n",
       "            (q_proj): Linear(in_features=768, out_features=768, bias=True)\n",
       "            (out_proj): Linear(in_features=768, out_features=768, bias=True)\n",
       "          )\n",
       "          (activation_fn): GELUActivation()\n",
       "          (self_attn_layer_norm): LayerNorm((768,), eps=1e-05, elementwise_affine=True)\n",
       "          (encoder_attn): BartSdpaAttention(\n",
       "            (k_proj): Linear(in_features=768, out_features=768, bias=True)\n",
       "            (v_proj): Linear(in_features=768, out_features=768, bias=True)\n",
       "            (q_proj): Linear(in_features=768, out_features=768, bias=True)\n",
       "            (out_proj): Linear(in_features=768, out_features=768, bias=True)\n",
       "          )\n",
       "          (encoder_attn_layer_norm): LayerNorm((768,), eps=1e-05, elementwise_affine=True)\n",
       "          (fc1): Linear(in_features=768, out_features=3072, bias=True)\n",
       "          (fc2): Linear(in_features=3072, out_features=768, bias=True)\n",
       "          (final_layer_norm): LayerNorm((768,), eps=1e-05, elementwise_affine=True)\n",
       "        )\n",
       "      )\n",
       "      (layernorm_embedding): LayerNorm((768,), eps=1e-05, elementwise_affine=True)\n",
       "    )\n",
       "  )\n",
       "  (lm_head): Linear(in_features=768, out_features=30000, bias=False)\n",
       ")"
      ]
     },
     "execution_count": 1,
     "metadata": {},
     "output_type": "execute_result"
    }
   ],
   "source": [
    "from transformers import AutoTokenizer, AutoModelForSeq2SeqLM\n",
    "\n",
    "model_name = \"hyunwoongko/kobart\"\n",
    "tokenizer = AutoTokenizer.from_pretrained(model_name)\n",
    "model = AutoModelForSeq2SeqLM.from_pretrained(model_name)\n",
    "model"
   ]
  },
  {
   "attachments": {},
   "cell_type": "markdown",
   "id": "e8b85ccd-deae-4e15-9734-f88613590959",
   "metadata": {},
   "source": [
    "## 2-2. Dataset "
   ]
  },
  {
   "cell_type": "markdown",
   "id": "72ba1ffb-05b2-4aa7-a851-7cdcf8024a81",
   "metadata": {},
   "source": [
    "`유의점`\n",
    "\n",
    "인코더-디코더 모델은 인코더에 들어가는 입력과 디코더에 들어가는 입력, 총 두 개 입력이 필요하고 이에 대한 정답이 따로 필요하다.\n",
    "\n",
    "필수로 **인코더 입력, 디코더 입력, 디코더 정답** 이렇게 세 가지 데이터 특성이 포함되어야 한다.\n",
    "- **왜 인코더 정답은 필요 없지..?**\n",
    "\n",
    "우선 인코더 입력과 출력의 정답은 달라야하므로 정답을 text_target 파라미터로 입력해 정답 값까지 한 번에 들어야 한다."
   ]
  },
  {
   "cell_type": "markdown",
   "id": "d8e452b9-f41c-4419-9965-8727130e18c4",
   "metadata": {},
   "source": [
    "`-` 인코더 정답이 필요없는 이유\n",
    "\n",
    "결론부터 말하면 **정답이 필요한 곳은 디코더 뿐이다!**\n",
    "- 인코더는 입력을 벡터로 변환하는 역할만 하기에 정답이 따로 필요없다.\n",
    "- 하지만 디코더는 출력을 생성하므로 정답(labels)이 필요하다."
   ]
  },
  {
   "cell_type": "code",
   "execution_count": 2,
   "id": "91928fe3-9d9a-4fe2-bab3-0984f62742d3",
   "metadata": {},
   "outputs": [
    {
     "data": {
      "application/vnd.jupyter.widget-view+json": {
       "model_id": "9f79214319c548ab8b19407cd12179c7",
       "version_major": 2,
       "version_minor": 0
      },
      "text/plain": [
       "model.safetensors:   0%|          | 0.00/495M [00:00<?, ?B/s]"
      ]
     },
     "metadata": {},
     "output_type": "display_data"
    },
    {
     "data": {
      "application/vnd.jupyter.widget-view+json": {
       "model_id": "5160d1bcf0f9474b9cb6f096db15a0d5",
       "version_major": 2,
       "version_minor": 0
      },
      "text/plain": [
       "Downloading readme:   0%|          | 0.00/2.69k [00:00<?, ?B/s]"
      ]
     },
     "metadata": {},
     "output_type": "display_data"
    },
    {
     "name": "stdout",
     "output_type": "stream",
     "text": [
      "DatasetDict({\n",
      "    train: Dataset({\n",
      "        features: ['korean', 'english'],\n",
      "        num_rows: 166215\n",
      "    })\n",
      "    validation: Dataset({\n",
      "        features: ['korean', 'english'],\n",
      "        num_rows: 1958\n",
      "    })\n",
      "    test: Dataset({\n",
      "        features: ['korean', 'english'],\n",
      "        num_rows: 1982\n",
      "    })\n",
      "})\n"
     ]
    },
    {
     "data": {
      "text/plain": [
       "{'korean': '(박수) 이쪽은 Bill Lange 이고, 저는 David Gallo입니다',\n",
       " 'english': \"(Applause) David Gallo: This is Bill Lange. I'm Dave Gallo.\"}"
      ]
     },
     "execution_count": 2,
     "metadata": {},
     "output_type": "execute_result"
    }
   ],
   "source": [
    "from datasets import load_dataset\n",
    "\n",
    "dataset = load_dataset(\"msarmi9/korean-english-multitarget-ted-talks-task\")\n",
    "print(dataset)\n",
    "dataset['train'][0]"
   ]
  },
  {
   "cell_type": "code",
   "execution_count": 3,
   "id": "d4c7a1d2-7143-4b72-bd1f-7c32ac5d2267",
   "metadata": {
    "scrolled": true
   },
   "outputs": [
    {
     "data": {
      "application/vnd.jupyter.widget-view+json": {
       "model_id": "6aefd18909e641bbb6a3c09d567af8e2",
       "version_major": 2,
       "version_minor": 0
      },
      "text/plain": [
       "Map (num_proc=2):   0%|          | 0/166215 [00:00<?, ? examples/s]"
      ]
     },
     "metadata": {},
     "output_type": "display_data"
    },
    {
     "data": {
      "application/vnd.jupyter.widget-view+json": {
       "model_id": "2a3ee2ca305948f1b5c10e84e81635af",
       "version_major": 2,
       "version_minor": 0
      },
      "text/plain": [
       "Map (num_proc=2):   0%|          | 0/1958 [00:00<?, ? examples/s]"
      ]
     },
     "metadata": {},
     "output_type": "display_data"
    },
    {
     "data": {
      "application/vnd.jupyter.widget-view+json": {
       "model_id": "c785c27569ab4b28996c9c619d4392e3",
       "version_major": 2,
       "version_minor": 0
      },
      "text/plain": [
       "Map (num_proc=2):   0%|          | 0/1982 [00:00<?, ? examples/s]"
      ]
     },
     "metadata": {},
     "output_type": "display_data"
    },
    {
     "data": {
      "text/plain": [
       "{'input_ids': [0,\n",
       "  14338,\n",
       "  10770,\n",
       "  11372,\n",
       "  240,\n",
       "  14025,\n",
       "  12471,\n",
       "  12005,\n",
       "  15085,\n",
       "  29490,\n",
       "  14676,\n",
       "  24508,\n",
       "  300,\n",
       "  14025,\n",
       "  14161,\n",
       "  16530,\n",
       "  15529,\n",
       "  296,\n",
       "  317,\n",
       "  18509,\n",
       "  15464,\n",
       "  15585,\n",
       "  20858,\n",
       "  12049,\n",
       "  20211,\n",
       "  1],\n",
       " 'attention_mask': [1,\n",
       "  1,\n",
       "  1,\n",
       "  1,\n",
       "  1,\n",
       "  1,\n",
       "  1,\n",
       "  1,\n",
       "  1,\n",
       "  1,\n",
       "  1,\n",
       "  1,\n",
       "  1,\n",
       "  1,\n",
       "  1,\n",
       "  1,\n",
       "  1,\n",
       "  1,\n",
       "  1,\n",
       "  1,\n",
       "  1,\n",
       "  1,\n",
       "  1,\n",
       "  1,\n",
       "  1,\n",
       "  1],\n",
       " 'labels': [0,\n",
       "  14338,\n",
       "  264,\n",
       "  311,\n",
       "  311,\n",
       "  17422,\n",
       "  316,\n",
       "  17223,\n",
       "  240,\n",
       "  15529,\n",
       "  296,\n",
       "  317,\n",
       "  18509,\n",
       "  15464,\n",
       "  15585,\n",
       "  20858,\n",
       "  257,\n",
       "  15054,\n",
       "  303,\n",
       "  15868,\n",
       "  1700,\n",
       "  15868,\n",
       "  15085,\n",
       "  29490,\n",
       "  14676,\n",
       "  24508,\n",
       "  300,\n",
       "  245,\n",
       "  14943,\n",
       "  238,\n",
       "  308,\n",
       "  15529,\n",
       "  296,\n",
       "  21518,\n",
       "  15464,\n",
       "  15585,\n",
       "  20858,\n",
       "  245,\n",
       "  1]}"
      ]
     },
     "execution_count": 3,
     "metadata": {},
     "output_type": "execute_result"
    }
   ],
   "source": [
    "tokenized_dataset = dataset.map(\n",
    "    lambda batch: (\n",
    "        tokenizer(\n",
    "            batch[\"korean\"],\n",
    "            text_target=batch[\"english\"],\n",
    "            max_length=512,\n",
    "            truncation=True,\n",
    "        )\n",
    "    ),\n",
    "    batched=True,\n",
    "    batch_size=1000,\n",
    "    num_proc=2,\n",
    "    remove_columns=dataset[\"train\"].column_names,\n",
    ")\n",
    "tokenized_dataset[\"train\"][0]"
   ]
  },
  {
   "cell_type": "code",
   "execution_count": 4,
   "id": "b7d05b10-ee33-4a45-a45d-89e589f5fbeb",
   "metadata": {},
   "outputs": [
    {
     "data": {
      "text/plain": [
       "DatasetDict({\n",
       "    train: Dataset({\n",
       "        features: ['input_ids', 'attention_mask', 'labels'],\n",
       "        num_rows: 166215\n",
       "    })\n",
       "    validation: Dataset({\n",
       "        features: ['input_ids', 'attention_mask', 'labels'],\n",
       "        num_rows: 1958\n",
       "    })\n",
       "    test: Dataset({\n",
       "        features: ['input_ids', 'attention_mask', 'labels'],\n",
       "        num_rows: 1982\n",
       "    })\n",
       "})"
      ]
     },
     "execution_count": 4,
     "metadata": {},
     "output_type": "execute_result"
    }
   ],
   "source": [
    "tokenized_dataset\n",
    "\n",
    "# 데이터를 살펴보면 input_ids : 인코더 입력, labels : 디코더 정답은 존재한다.\n",
    "# 디코더 입력인 decoder_input_ids가 없기에 모델에 데이터를 입력하면 오류가 발생한다."
   ]
  },
  {
   "cell_type": "markdown",
   "id": "348abd27-8a55-463a-b07c-5f07a77872f0",
   "metadata": {},
   "source": [
    "## 2-3. Collator"
   ]
  },
  {
   "cell_type": "markdown",
   "id": "ce34fc0c-2547-4663-ae21-3fe210f2d05c",
   "metadata": {},
   "source": [
    "디코더 입력값은 결국 정답 값인 labels을 앞으로 한 칸 이동한 데이터이다.\n",
    "\n",
    "해당 작업을 패딩과 더불어 간편하게 처리할 수 있도록 DataCollatorForSeq2Seq를 사용한다.\n",
    "\n",
    "패딩 작업과 함께 디코더에 입력으로 들어갈 부분까지 자동으로 설정하여 반환한다."
   ]
  },
  {
   "cell_type": "markdown",
   "id": "ebafeaae-f8f6-4a26-acad-c2e789f16086",
   "metadata": {},
   "source": [
    "**콜레이터는 batch 데이터를 준비하는데 사용되는 함수이다.**"
   ]
  },
  {
   "cell_type": "code",
   "execution_count": 7,
   "id": "daa0b962-5683-40c1-ad25-f926a5261ff5",
   "metadata": {},
   "outputs": [
    {
     "data": {
      "text/plain": [
       "{'input_ids': tensor([[    0, 14338, 10770,  ...,     3,     3,     3],\n",
       "        [    0, 15496, 18918,  ...,     3,     3,     3]]), 'attention_mask': tensor([[1, 1, 1,  ..., 0, 0, 0],\n",
       "        [1, 1, 1,  ..., 0, 0, 0]]), 'labels': tensor([[    0, 14338,   264,  ...,  -100,  -100,  -100],\n",
       "        [    0, 14603,   309,  ...,  -100,  -100,  -100]]), 'decoder_input_ids': tensor([[    1,     0, 14338,  ...,     3,     3,     3],\n",
       "        [    1,     0, 14603,  ...,     3,     3,     3]])}"
      ]
     },
     "execution_count": 7,
     "metadata": {},
     "output_type": "execute_result"
    }
   ],
   "source": [
    "from transformers import DataCollatorForSeq2Seq\n",
    "\n",
    "collator = DataCollatorForSeq2Seq(\n",
    "    tokenizer=tokenizer,\n",
    "    model=model,\n",
    "    padding=\"max_length\",\n",
    "    max_length=512,\n",
    ")\n",
    "batch = collator([tokenized_dataset[\"train\"][i] for i in range(2)]) # 문장 2개만 뽑아서 처리\n",
    "batch"
   ]
  },
  {
   "cell_type": "markdown",
   "id": "17e88275-da41-4ef7-ac09-8bac5e413e87",
   "metadata": {},
   "source": [
    "## 2-4. Generation"
   ]
  },
  {
   "cell_type": "code",
   "execution_count": 22,
   "id": "9bed90f0-2066-4fc8-a949-0b63a967e934",
   "metadata": {},
   "outputs": [
    {
     "data": {
      "text/plain": [
       "tensor([[[  5.4885,  18.7849,  -0.5489,  ...,   0.0465,   0.5813,  -2.2851],\n",
       "         [  3.7287,  18.9676,  -1.1747,  ...,  -0.2600,  -3.4647,  -0.0973],\n",
       "         [ -1.2976,   8.6322,  -5.0410,  ...,  -7.0689,  -6.1346,  -4.4141],\n",
       "         ...,\n",
       "         [ -9.2638,   4.4483,  -8.4506,  ..., -12.6961, -13.2625,  -7.7570],\n",
       "         [ -8.4581,   4.9268,  -7.2172,  ..., -11.5650, -11.8799,  -6.8108],\n",
       "         [ -8.3191,   5.2101,  -6.8817,  ..., -11.1563, -11.7052,  -6.7644]],\n",
       "\n",
       "        [[  4.7748,  16.2666,  -3.0011,  ...,  -0.8965,  -3.3187,  -3.1041],\n",
       "         [  0.6535,  19.3665,  -1.4506,  ...,   0.1562,  -4.3976,   0.1983],\n",
       "         [ -5.0934,  10.8673,  -7.5637,  ...,  -6.3808,  -1.6471,  -7.2105],\n",
       "         ...,\n",
       "         [ -1.5132,  19.0760,   0.3272,  ...,  -2.6680,  -3.9969,   2.7315],\n",
       "         [ -2.3757,  20.0047,  -0.5301,  ...,  -1.7740,  -5.1750,   0.8077],\n",
       "         [ -2.2504,  19.9756,  -0.4519,  ...,  -0.6850,  -5.1072,   0.4720]]])"
      ]
     },
     "execution_count": 22,
     "metadata": {},
     "output_type": "execute_result"
    }
   ],
   "source": [
    "import torch\n",
    "\n",
    "with torch.no_grad():\n",
    "    logits = model(**batch).logits\n",
    "\n",
    "logits"
   ]
  },
  {
   "cell_type": "code",
   "execution_count": 14,
   "id": "9047a1ca-bab0-4292-b274-9434b7132bb0",
   "metadata": {},
   "outputs": [
    {
     "data": {
      "text/plain": [
       "torch.Size([2, 512, 30000])"
      ]
     },
     "execution_count": 14,
     "metadata": {},
     "output_type": "execute_result"
    }
   ],
   "source": [
    "logits.shape"
   ]
  },
  {
   "cell_type": "markdown",
   "id": "4ab39e6c-bf6d-45ea-9b13-2432745351ca",
   "metadata": {},
   "source": [
    "512의 단어 길이를 가지는 2개의 문장에서 30000개의 단어들이 나올 확률을 계산한 것."
   ]
  },
  {
   "cell_type": "code",
   "execution_count": 23,
   "id": "629fd876-56d4-4e05-ab97-cfabd6b7e203",
   "metadata": {},
   "outputs": [
    {
     "name": "stdout",
     "output_type": "stream",
     "text": [
      "\n"
     ]
    }
   ],
   "source": [
    "from transformers import GenerationConfig\n",
    "\n",
    "gen_cfg = GenerationConfig(\n",
    "    max_new_tokens=100,\n",
    "    do_sample=True,\n",
    "    temperature=1.2,\n",
    "    top_k=50,\n",
    "    top_p=0.95,\n",
    ")\n",
    "outputs = model.generate(batch[\"input_ids\"], generation_config=gen_cfg)\n",
    "result = tokenizer.batch_decode(outputs, skip_special_tokens=True)\n",
    "print(result[0])"
   ]
  },
  {
   "cell_type": "markdown",
   "id": "0e48b05e-99c2-49d9-a1ed-8300a714bded",
   "metadata": {},
   "source": [
    "`-` 문장이 제대로 생성되지 않은 이유"
   ]
  },
  {
   "cell_type": "markdown",
   "id": "4265d6ee-3ce4-4d9e-8ea5-bd8f7f6461c8",
   "metadata": {},
   "source": [
    "model.config.eos_token_id = 1로 설정되어 있어서, 모델이 처음 생성하는 토큰이 1번 토큰이면 곧바로 종료된다."
   ]
  },
  {
   "cell_type": "code",
   "execution_count": 17,
   "id": "a8ad696f-8544-4ff0-82be-9d0751c9af1a",
   "metadata": {},
   "outputs": [
    {
     "data": {
      "text/plain": [
       "1"
      ]
     },
     "execution_count": 17,
     "metadata": {},
     "output_type": "execute_result"
    }
   ],
   "source": [
    "model.config.eos_token_id"
   ]
  },
  {
   "cell_type": "markdown",
   "id": "0be6fcb3-34c2-4fbe-ae4f-b64ad038787c",
   "metadata": {},
   "source": [
    "## 2-5. Evaluate"
   ]
  },
  {
   "cell_type": "markdown",
   "id": "87485c32-adea-4f01-a5cb-7f322891bdc7",
   "metadata": {},
   "source": [
    "문장 생성 태스크는 학습을 진행하며 평가 지표를 확인하기 어렵다.\n",
    "\n",
    "따라서 학습 중에 일반적으로 크로스 엔트로피 손실을 사용하여 값이 감소 추이를 살피며 모델 학습이 원활하게 이뤄지는지 확인한다."
   ]
  },
  {
   "cell_type": "markdown",
   "id": "5140c62a-5554-4602-ba6e-43a9bf7fe5dc",
   "metadata": {},
   "source": [
    "# 3. Sequence Classification"
   ]
  },
  {
   "cell_type": "markdown",
   "id": "21c079ea-19d3-41f5-8d90-73302df3354c",
   "metadata": {},
   "source": [
    "## 3-1. model"
   ]
  },
  {
   "cell_type": "markdown",
   "id": "c3e5c187-41eb-484d-9542-2456da8f4828",
   "metadata": {},
   "source": [
    "이번 실습에서는 인코더와 디코더에 동일한 문장을 입력하여서 문장 분류를 진행하려고 한다.\n",
    "\n",
    "문장 구조가 바뀌지 않기에 이전 인코더, 디코더 기반 모델에서 실습했던 것과 같이 동일한 코드로 추론한다."
   ]
  },
  {
   "cell_type": "code",
   "execution_count": 25,
   "id": "8d29398b-c6b9-48b1-80f1-4578b7082db6",
   "metadata": {},
   "outputs": [
    {
     "name": "stderr",
     "output_type": "stream",
     "text": [
      "You passed along `num_labels=3` with an incompatible id to label map: {'0': 'NEGATIVE', '1': 'POSITIVE'}. The number of labels will be overwritten to 2.\n",
      "Some weights of BartForSequenceClassification were not initialized from the model checkpoint at hyunwoongko/kobart and are newly initialized: ['classification_head.dense.bias', 'classification_head.dense.weight', 'classification_head.out_proj.bias', 'classification_head.out_proj.weight']\n",
      "You should probably TRAIN this model on a down-stream task to be able to use it for predictions and inference.\n"
     ]
    },
    {
     "data": {
      "text/plain": [
       "BartForSequenceClassification(\n",
       "  (model): BartModel(\n",
       "    (shared): BartScaledWordEmbedding(30000, 768, padding_idx=3)\n",
       "    (encoder): BartEncoder(\n",
       "      (embed_tokens): BartScaledWordEmbedding(30000, 768, padding_idx=3)\n",
       "      (embed_positions): BartLearnedPositionalEmbedding(1028, 768)\n",
       "      (layers): ModuleList(\n",
       "        (0-5): 6 x BartEncoderLayer(\n",
       "          (self_attn): BartSdpaAttention(\n",
       "            (k_proj): Linear(in_features=768, out_features=768, bias=True)\n",
       "            (v_proj): Linear(in_features=768, out_features=768, bias=True)\n",
       "            (q_proj): Linear(in_features=768, out_features=768, bias=True)\n",
       "            (out_proj): Linear(in_features=768, out_features=768, bias=True)\n",
       "          )\n",
       "          (self_attn_layer_norm): LayerNorm((768,), eps=1e-05, elementwise_affine=True)\n",
       "          (activation_fn): GELUActivation()\n",
       "          (fc1): Linear(in_features=768, out_features=3072, bias=True)\n",
       "          (fc2): Linear(in_features=3072, out_features=768, bias=True)\n",
       "          (final_layer_norm): LayerNorm((768,), eps=1e-05, elementwise_affine=True)\n",
       "        )\n",
       "      )\n",
       "      (layernorm_embedding): LayerNorm((768,), eps=1e-05, elementwise_affine=True)\n",
       "    )\n",
       "    (decoder): BartDecoder(\n",
       "      (embed_tokens): BartScaledWordEmbedding(30000, 768, padding_idx=3)\n",
       "      (embed_positions): BartLearnedPositionalEmbedding(1028, 768)\n",
       "      (layers): ModuleList(\n",
       "        (0-5): 6 x BartDecoderLayer(\n",
       "          (self_attn): BartSdpaAttention(\n",
       "            (k_proj): Linear(in_features=768, out_features=768, bias=True)\n",
       "            (v_proj): Linear(in_features=768, out_features=768, bias=True)\n",
       "            (q_proj): Linear(in_features=768, out_features=768, bias=True)\n",
       "            (out_proj): Linear(in_features=768, out_features=768, bias=True)\n",
       "          )\n",
       "          (activation_fn): GELUActivation()\n",
       "          (self_attn_layer_norm): LayerNorm((768,), eps=1e-05, elementwise_affine=True)\n",
       "          (encoder_attn): BartSdpaAttention(\n",
       "            (k_proj): Linear(in_features=768, out_features=768, bias=True)\n",
       "            (v_proj): Linear(in_features=768, out_features=768, bias=True)\n",
       "            (q_proj): Linear(in_features=768, out_features=768, bias=True)\n",
       "            (out_proj): Linear(in_features=768, out_features=768, bias=True)\n",
       "          )\n",
       "          (encoder_attn_layer_norm): LayerNorm((768,), eps=1e-05, elementwise_affine=True)\n",
       "          (fc1): Linear(in_features=768, out_features=3072, bias=True)\n",
       "          (fc2): Linear(in_features=3072, out_features=768, bias=True)\n",
       "          (final_layer_norm): LayerNorm((768,), eps=1e-05, elementwise_affine=True)\n",
       "        )\n",
       "      )\n",
       "      (layernorm_embedding): LayerNorm((768,), eps=1e-05, elementwise_affine=True)\n",
       "    )\n",
       "  )\n",
       "  (classification_head): BartClassificationHead(\n",
       "    (dense): Linear(in_features=768, out_features=768, bias=True)\n",
       "    (dropout): Dropout(p=0.1, inplace=False)\n",
       "    (out_proj): Linear(in_features=768, out_features=2, bias=True)\n",
       "  )\n",
       ")"
      ]
     },
     "execution_count": 25,
     "metadata": {},
     "output_type": "execute_result"
    }
   ],
   "source": [
    "from transformers import AutoTokenizer, AutoModelForSequenceClassification\n",
    "\n",
    "model_name = \"hyunwoongko/kobart\"\n",
    "tokenizer = AutoTokenizer.from_pretrained(model_name)\n",
    "model = AutoModelForSequenceClassification.from_pretrained(model_name, num_labels=2)\n",
    "model"
   ]
  },
  {
   "cell_type": "markdown",
   "id": "907f2e13-be44-4e2d-b638-b84307204b9f",
   "metadata": {},
   "source": [
    "## 3-2. Dataset"
   ]
  },
  {
   "cell_type": "code",
   "execution_count": 26,
   "id": "a6774a36-2973-4f46-9fe3-1d124a1e2fbd",
   "metadata": {},
   "outputs": [
    {
     "data": {
      "application/vnd.jupyter.widget-view+json": {
       "model_id": "a01580bb27d94c4dbaf8f1629b186885",
       "version_major": 2,
       "version_minor": 0
      },
      "text/plain": [
       "Downloading readme:   0%|          | 0.00/22.5k [00:00<?, ?B/s]"
      ]
     },
     "metadata": {},
     "output_type": "display_data"
    },
    {
     "data": {
      "application/vnd.jupyter.widget-view+json": {
       "model_id": "cf24856051474d639d097f899fbe7f08",
       "version_major": 2,
       "version_minor": 0
      },
      "text/plain": [
       "Map:   0%|          | 0/11668 [00:00<?, ? examples/s]"
      ]
     },
     "metadata": {},
     "output_type": "display_data"
    },
    {
     "data": {
      "application/vnd.jupyter.widget-view+json": {
       "model_id": "51e44e2822f64367b65763567e599141",
       "version_major": 2,
       "version_minor": 0
      },
      "text/plain": [
       "Map:   0%|          | 0/519 [00:00<?, ? examples/s]"
      ]
     },
     "metadata": {},
     "output_type": "display_data"
    }
   ],
   "source": [
    "from datasets import load_dataset\n",
    "\n",
    "dataset = load_dataset(\"klue\", \"sts\")\n",
    "\n",
    "def process_data(batch):\n",
    "  result = tokenizer(batch[\"sentence1\"], text_pair=batch[\"sentence2\"])\n",
    "  result[\"labels\"] = [x[\"binary-label\"] for x in batch[\"labels\"]]\n",
    "  return result\n",
    "\n",
    "tokenized_dataset = dataset.map(\n",
    "    process_data,\n",
    "    batched=True,\n",
    "    remove_columns=dataset[\"train\"].column_names\n",
    ")"
   ]
  },
  {
   "cell_type": "code",
   "execution_count": 28,
   "id": "19f764db-9feb-4fe3-a7c9-e276491d5a10",
   "metadata": {},
   "outputs": [
    {
     "data": {
      "text/plain": [
       "DatasetDict({\n",
       "    train: Dataset({\n",
       "        features: ['labels', 'input_ids', 'attention_mask'],\n",
       "        num_rows: 11668\n",
       "    })\n",
       "    validation: Dataset({\n",
       "        features: ['labels', 'input_ids', 'attention_mask'],\n",
       "        num_rows: 519\n",
       "    })\n",
       "})"
      ]
     },
     "execution_count": 28,
     "metadata": {},
     "output_type": "execute_result"
    }
   ],
   "source": [
    "tokenized_dataset"
   ]
  },
  {
   "cell_type": "markdown",
   "id": "1c3a0e17-355c-45ce-8e63-28d4819cae12",
   "metadata": {},
   "source": [
    "dataset은 인코더에 입력으로 들어가는 input_ids만 포함하고 있지만 큰 문제는 없다.\n",
    "\n",
    "decoder_input_ids가 입력되지 않았을 때, 인코더 입력인 input_ids를 오른쪽으로 한 칸 이동하여 디코더 입력으로 자동으로 사용한다."
   ]
  },
  {
   "cell_type": "markdown",
   "id": "3605471d-8ad9-4d33-a461-a2e5c4ca3c7a",
   "metadata": {},
   "source": [
    "## 3-3. Collator"
   ]
  },
  {
   "cell_type": "markdown",
   "id": "d6c09cbb-0143-492c-82b9-02611cc09c16",
   "metadata": {},
   "source": [
    "위에서도 설명했지만 콜레이터는 모델이 해당 데이터셋을 바로 사용하도록 batch 작업을 해준다."
   ]
  },
  {
   "cell_type": "code",
   "execution_count": 30,
   "id": "8adf5a56-164c-4387-b2fb-1b68986c65e2",
   "metadata": {},
   "outputs": [],
   "source": [
    "import torch\n",
    "from transformers import DataCollatorWithPadding\n",
    "\n",
    "collator = DataCollatorWithPadding(tokenizer)\n",
    "batch = collator([tokenized_dataset['train'][i] for i in range(4)])"
   ]
  },
  {
   "cell_type": "markdown",
   "id": "18756501-2201-4066-94d6-213214a8fea1",
   "metadata": {},
   "source": [
    "## 3-4. Generation"
   ]
  },
  {
   "cell_type": "code",
   "execution_count": 31,
   "id": "0f84a5cf-cb3f-4eb5-a7ea-3d6e80cb8404",
   "metadata": {},
   "outputs": [
    {
     "data": {
      "text/plain": [
       "tensor([[ 0.0255, -0.1499],\n",
       "        [ 0.4134, -0.2986],\n",
       "        [-0.0575,  0.0541],\n",
       "        [ 0.1218, -0.8607]])"
      ]
     },
     "execution_count": 31,
     "metadata": {},
     "output_type": "execute_result"
    }
   ],
   "source": [
    "with torch.no_grad():\n",
    "    logits = model(**batch).logits\n",
    "\n",
    "logits"
   ]
  },
  {
   "cell_type": "markdown",
   "id": "9fdb7e29-3742-4f9e-b284-b23d7e6052fa",
   "metadata": {},
   "source": [
    "## 3-5. Evaluate"
   ]
  },
  {
   "cell_type": "code",
   "execution_count": 34,
   "id": "3f7cfdc7-39f0-477c-9e7d-1c28fdfdf0b2",
   "metadata": {},
   "outputs": [
    {
     "data": {
      "application/vnd.jupyter.widget-view+json": {
       "model_id": "c226e547b8434f558e84c48b048e1716",
       "version_major": 2,
       "version_minor": 0
      },
      "text/plain": [
       "Downloading builder script:   0%|          | 0.00/6.77k [00:00<?, ?B/s]"
      ]
     },
     "metadata": {},
     "output_type": "display_data"
    },
    {
     "data": {
      "text/plain": [
       "{'f1': 0.5}"
      ]
     },
     "execution_count": 34,
     "metadata": {},
     "output_type": "execute_result"
    }
   ],
   "source": [
    "import evaluate\n",
    "\n",
    "f1 = evaluate.load('f1')\n",
    "f1.compute(\n",
    "    predictions = logits.argmax(axis = -1),\n",
    "    references = batch['labels'],\n",
    "    average = 'micro'\n",
    ")"
   ]
  },
  {
   "cell_type": "markdown",
   "id": "1a451e15-8ad9-4f53-99f5-97cf8400032f",
   "metadata": {},
   "source": [
    "`-` 생성 task가 아니라 분류이므로 평가 가능"
   ]
  },
  {
   "cell_type": "markdown",
   "id": "3f443f51-932a-46a8-a4fb-9829185fa2f4",
   "metadata": {},
   "source": [
    "# 4. Question Answering"
   ]
  },
  {
   "cell_type": "markdown",
   "id": "d219ea9f-ea01-46ae-8c97-66b781cd3979",
   "metadata": {},
   "source": [
    "추출 기반 질의 응답 태스크는 문장에서 시작과 끝 두 값만 추출하면 되는 간단한 태스크이다.\n",
    "\n",
    "따라서 인코더-디코더 기반 모델에서도 해당 태스크를 수행할 수 있다."
   ]
  },
  {
   "cell_type": "markdown",
   "id": "baae2c46-0a94-4cc9-b716-ad9f96780d85",
   "metadata": {},
   "source": [
    "## 4-1. model "
   ]
  },
  {
   "cell_type": "code",
   "execution_count": 35,
   "id": "0f13c83b-9ab1-4b72-914c-ef50522a941a",
   "metadata": {},
   "outputs": [
    {
     "name": "stderr",
     "output_type": "stream",
     "text": [
      "You passed along `num_labels=3` with an incompatible id to label map: {'0': 'NEGATIVE', '1': 'POSITIVE'}. The number of labels will be overwritten to 2.\n",
      "Some weights of BartForQuestionAnswering were not initialized from the model checkpoint at hyunwoongko/kobart and are newly initialized: ['qa_outputs.bias', 'qa_outputs.weight']\n",
      "You should probably TRAIN this model on a down-stream task to be able to use it for predictions and inference.\n"
     ]
    },
    {
     "data": {
      "text/plain": [
       "BartForQuestionAnswering(\n",
       "  (model): BartModel(\n",
       "    (shared): BartScaledWordEmbedding(30000, 768, padding_idx=3)\n",
       "    (encoder): BartEncoder(\n",
       "      (embed_tokens): BartScaledWordEmbedding(30000, 768, padding_idx=3)\n",
       "      (embed_positions): BartLearnedPositionalEmbedding(1028, 768)\n",
       "      (layers): ModuleList(\n",
       "        (0-5): 6 x BartEncoderLayer(\n",
       "          (self_attn): BartSdpaAttention(\n",
       "            (k_proj): Linear(in_features=768, out_features=768, bias=True)\n",
       "            (v_proj): Linear(in_features=768, out_features=768, bias=True)\n",
       "            (q_proj): Linear(in_features=768, out_features=768, bias=True)\n",
       "            (out_proj): Linear(in_features=768, out_features=768, bias=True)\n",
       "          )\n",
       "          (self_attn_layer_norm): LayerNorm((768,), eps=1e-05, elementwise_affine=True)\n",
       "          (activation_fn): GELUActivation()\n",
       "          (fc1): Linear(in_features=768, out_features=3072, bias=True)\n",
       "          (fc2): Linear(in_features=3072, out_features=768, bias=True)\n",
       "          (final_layer_norm): LayerNorm((768,), eps=1e-05, elementwise_affine=True)\n",
       "        )\n",
       "      )\n",
       "      (layernorm_embedding): LayerNorm((768,), eps=1e-05, elementwise_affine=True)\n",
       "    )\n",
       "    (decoder): BartDecoder(\n",
       "      (embed_tokens): BartScaledWordEmbedding(30000, 768, padding_idx=3)\n",
       "      (embed_positions): BartLearnedPositionalEmbedding(1028, 768)\n",
       "      (layers): ModuleList(\n",
       "        (0-5): 6 x BartDecoderLayer(\n",
       "          (self_attn): BartSdpaAttention(\n",
       "            (k_proj): Linear(in_features=768, out_features=768, bias=True)\n",
       "            (v_proj): Linear(in_features=768, out_features=768, bias=True)\n",
       "            (q_proj): Linear(in_features=768, out_features=768, bias=True)\n",
       "            (out_proj): Linear(in_features=768, out_features=768, bias=True)\n",
       "          )\n",
       "          (activation_fn): GELUActivation()\n",
       "          (self_attn_layer_norm): LayerNorm((768,), eps=1e-05, elementwise_affine=True)\n",
       "          (encoder_attn): BartSdpaAttention(\n",
       "            (k_proj): Linear(in_features=768, out_features=768, bias=True)\n",
       "            (v_proj): Linear(in_features=768, out_features=768, bias=True)\n",
       "            (q_proj): Linear(in_features=768, out_features=768, bias=True)\n",
       "            (out_proj): Linear(in_features=768, out_features=768, bias=True)\n",
       "          )\n",
       "          (encoder_attn_layer_norm): LayerNorm((768,), eps=1e-05, elementwise_affine=True)\n",
       "          (fc1): Linear(in_features=768, out_features=3072, bias=True)\n",
       "          (fc2): Linear(in_features=3072, out_features=768, bias=True)\n",
       "          (final_layer_norm): LayerNorm((768,), eps=1e-05, elementwise_affine=True)\n",
       "        )\n",
       "      )\n",
       "      (layernorm_embedding): LayerNorm((768,), eps=1e-05, elementwise_affine=True)\n",
       "    )\n",
       "  )\n",
       "  (qa_outputs): Linear(in_features=768, out_features=2, bias=True)\n",
       ")"
      ]
     },
     "execution_count": 35,
     "metadata": {},
     "output_type": "execute_result"
    }
   ],
   "source": [
    "from transformers import AutoTokenizer, AutoModelForQuestionAnswering\n",
    "\n",
    "model_name = \"hyunwoongko/kobart\"\n",
    "tokenizer = AutoTokenizer.from_pretrained(model_name)\n",
    "model = AutoModelForQuestionAnswering.from_pretrained(model_name)\n",
    "model"
   ]
  },
  {
   "cell_type": "markdown",
   "id": "d176bd94-8b14-40d2-a8bd-7fb2b3a10971",
   "metadata": {},
   "source": [
    "`-` out_features=2\n",
    "\n",
    "두 값만 출력하면 되기에 out_features = 2이다."
   ]
  },
  {
   "cell_type": "markdown",
   "id": "8d397d86-07cd-479e-b036-92b64fcbdc03",
   "metadata": {},
   "source": [
    "## 4-1. Dataset"
   ]
  },
  {
   "cell_type": "code",
   "execution_count": 36,
   "id": "657523df-3d7c-4eb8-9006-d9876e0b6427",
   "metadata": {},
   "outputs": [
    {
     "data": {
      "application/vnd.jupyter.widget-view+json": {
       "model_id": "ce1740142d844a10882340c13758d1a7",
       "version_major": 2,
       "version_minor": 0
      },
      "text/plain": [
       "Map:   0%|          | 0/17554 [00:00<?, ? examples/s]"
      ]
     },
     "metadata": {},
     "output_type": "display_data"
    },
    {
     "data": {
      "application/vnd.jupyter.widget-view+json": {
       "model_id": "0ffde8a6b0004b2e98cf3c8438ccd543",
       "version_major": 2,
       "version_minor": 0
      },
      "text/plain": [
       "Map:   0%|          | 0/5841 [00:00<?, ? examples/s]"
      ]
     },
     "metadata": {},
     "output_type": "display_data"
    }
   ],
   "source": [
    "from datasets import load_dataset\n",
    "\n",
    "dataset = load_dataset(\"klue\", \"mrc\") # klue: 데이터셋 mrc: 기계독해 데이터\n",
    "\n",
    "def preprocess_function(examples):\n",
    "    questions = [q.strip() for q in examples[\"question\"]]\n",
    "    inputs = tokenizer(\n",
    "        questions,\n",
    "        examples[\"context\"],\n",
    "        max_length=512,\n",
    "        truncation=\"only_second\", # 문맥이 길면 문맥만 잘라냄 (질문과 문맥에서 문맥이 길기때문에)\n",
    "        return_offsets_mapping=True, # 원본 텍스트에서 각 토큰의 위치 정보 저장 (추출해야 하기에)\n",
    "        padding=\"max_length\",\n",
    "    )\n",
    "\n",
    "    offset_mapping = inputs.pop(\"offset_mapping\")\n",
    "    answers = examples[\"answers\"] # 실제 정답 정보 answer_start , text\n",
    "    start_positions = []\n",
    "    end_positions = []\n",
    "\n",
    "    for i, offset in enumerate(offset_mapping):\n",
    "        answer = answers[i]\n",
    "        start_char = answer[\"answer_start\"][0]\n",
    "        end_char = answer[\"answer_start\"][0] + len(answer[\"text\"][0])\n",
    "        sequence_ids = inputs.sequence_ids(i)\n",
    "        # start, end 위치를 찾음\n",
    "\n",
    "        # Find the start and end of the context\n",
    "        idx = 0\n",
    "        while sequence_ids[idx] != 1:\n",
    "          idx += 1\n",
    "        context_start = idx # 문맥이 시작하는 위치\n",
    "        while sequence_ids[idx] == 1:\n",
    "          idx += 1 \n",
    "        context_end = idx - 1 # 문맥이 끝나는 위치\n",
    "\n",
    "        # If the answer is not fully inside the context, label it (0, 0)\n",
    "        if offset[context_start][0] > end_char or offset[context_end][1] < start_char:\n",
    "            start_positions.append(0) # 정답이 문맥 밖에 있으면 start,end 위치를 0으로 설정\n",
    "            end_positions.append(0)\n",
    "        else:\n",
    "            # Otherwise it's the start and end token positions\n",
    "            idx = context_start\n",
    "            while idx <= context_end and offset[idx][0] <= start_char:\n",
    "                idx += 1\n",
    "            start_positions.append(idx - 1) # 정답의 시작 위치를 저장\n",
    "\n",
    "            idx = context_end\n",
    "            while idx >= context_start and offset[idx][1] >= end_char:\n",
    "                idx -= 1\n",
    "            end_positions.append(idx + 1) # 정답의 끝 위치를 저장\n",
    "\n",
    "    inputs[\"start_positions\"] = start_positions\n",
    "    inputs[\"end_positions\"] = end_positions\n",
    "    return inputs\n",
    "\n",
    "tokenized_dataset = dataset.map(\n",
    "    preprocess_function,\n",
    "    batched=True,\n",
    "    remove_columns=dataset[\"train\"].column_names\n",
    ")"
   ]
  },
  {
   "cell_type": "markdown",
   "id": "42b60a76-3c5c-45fe-b9c2-983f462a4d2e",
   "metadata": {},
   "source": [
    "## 4-2. Collator"
   ]
  },
  {
   "cell_type": "code",
   "execution_count": 37,
   "id": "6389c6a1-f8aa-4c81-86ae-2b4a30101807",
   "metadata": {},
   "outputs": [
    {
     "data": {
      "text/plain": [
       "{'input_ids': tensor([[    0, 14337, 26225,  ...,     3,     3,     3],\n",
       "         [    0, 25092, 18001,  ..., 11270, 19903,     1],\n",
       "         [    0, 25788, 13679,  ..., 19903, 15599,     1],\n",
       "         ...,\n",
       "         [    0, 20437, 17814,  ...,     3,     3,     3],\n",
       "         [    0, 14154, 12061,  ...,     3,     3,     3],\n",
       "         [    0, 14295, 14120,  ...,     3,     3,     3]]),\n",
       " 'attention_mask': tensor([[1, 1, 1,  ..., 0, 0, 0],\n",
       "         [1, 1, 1,  ..., 1, 1, 1],\n",
       "         [1, 1, 1,  ..., 1, 1, 1],\n",
       "         ...,\n",
       "         [1, 1, 1,  ..., 0, 0, 0],\n",
       "         [1, 1, 1,  ..., 0, 0, 0],\n",
       "         [1, 1, 1,  ..., 0, 0, 0]]),\n",
       " 'start_positions': tensor([233,  27,   0,  78,  60,  68, 202, 319, 306, 271]),\n",
       " 'end_positions': tensor([235,  29,   0,  79,  66,  74, 210, 325, 312, 275])}"
      ]
     },
     "execution_count": 37,
     "metadata": {},
     "output_type": "execute_result"
    }
   ],
   "source": [
    "from transformers import DefaultDataCollator\n",
    "\n",
    "data_collator = DefaultDataCollator()\n",
    "batch = data_collator([tokenized_dataset[\"train\"][i] for i in range(10)])\n",
    "batch"
   ]
  },
  {
   "cell_type": "markdown",
   "id": "ea686436-ae5e-47e5-acdc-54f38fed8138",
   "metadata": {},
   "source": [
    "## 4-3. Generation"
   ]
  },
  {
   "cell_type": "code",
   "execution_count": 42,
   "id": "9f43a551-7ebf-49fc-acbb-c299550130eb",
   "metadata": {},
   "outputs": [
    {
     "data": {
      "text/plain": [
       "''"
      ]
     },
     "execution_count": 42,
     "metadata": {},
     "output_type": "execute_result"
    }
   ],
   "source": [
    "import torch\n",
    "\n",
    "with torch.no_grad():\n",
    "  outputs = model(**batch)\n",
    "\n",
    "answer_start_index = outputs.start_logits.argmax()\n",
    "answer_end_index = outputs.end_logits.argmax()\n",
    "\n",
    "predict_answer_tokens = batch[\"input_ids\"][0, answer_start_index : answer_end_index + 1]\n",
    "tokenizer.decode(predict_answer_tokens)"
   ]
  },
  {
   "cell_type": "markdown",
   "id": "024b2907-8702-45d8-a789-f4fff6711361",
   "metadata": {},
   "source": [
    "## 4-4. Evaluate"
   ]
  },
  {
   "cell_type": "markdown",
   "id": "750ae1ff-2463-45f4-a9cc-ab0b7c814d12",
   "metadata": {},
   "source": [
    "QA 평가지표는 `evaluate.load('squad')`를 통해 진행할 수 있었다. 하지만 상당한 양의 후처리가 필요하고 시간이 오래 걸리는 작업이다."
   ]
  }
 ],
 "metadata": {
  "kernelspec": {
   "display_name": "Python 3 (ipykernel)",
   "language": "python",
   "name": "python3"
  },
  "language_info": {
   "codemirror_mode": {
    "name": "ipython",
    "version": 3
   },
   "file_extension": ".py",
   "mimetype": "text/x-python",
   "name": "python",
   "nbconvert_exporter": "python",
   "pygments_lexer": "ipython3",
   "version": "3.12.2"
  }
 },
 "nbformat": 4,
 "nbformat_minor": 5
}
