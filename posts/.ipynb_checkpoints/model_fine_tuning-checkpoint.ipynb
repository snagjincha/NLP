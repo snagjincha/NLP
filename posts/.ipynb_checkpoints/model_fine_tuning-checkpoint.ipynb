{
 "cells": [
  {
   "cell_type": "raw",
   "id": "d2b150de-508e-4f8d-823b-54c8c160aa5a",
   "metadata": {},
   "source": [
    "---\n",
    "title: \"Model fine tuning\"\n",
    "author: \"차상진\"\n",
    "date: \"2025-04-15\"\n",
    "---"
   ]
  },
  {
   "cell_type": "markdown",
   "id": "3fb6cd58-926c-43f7-bf9b-4812209c8c94",
   "metadata": {},
   "source": [
    "# 1. Install"
   ]
  },
  {
   "cell_type": "markdown",
   "id": "c74a586e-2107-43af-a68b-c4e58fb5f7c8",
   "metadata": {},
   "source": [
    "아래 코드를 실행하고 런타임 재시작"
   ]
  },
  {
   "cell_type": "code",
   "execution_count": 2,
   "id": "c391486f-fd95-4011-8114-79ad7bbba18d",
   "metadata": {
    "scrolled": true
   },
   "outputs": [],
   "source": [
    "# pip install datasets==2.20.0 transformers==4.41.2 peft==0.10.0 evaluate==0.4.2 scikit-learn==1.4.2 accelerate -U"
   ]
  },
  {
   "cell_type": "markdown",
   "id": "829ac826-71e3-474a-8b55-9e2fe064b260",
   "metadata": {},
   "source": [
    "이전 chapter에서는 전체적으로 미세조정을 하지 않고 모델과 각 태스크의 대략적인 구조만 학습했다.\n",
    "\n",
    "아무래도 학습을 하지 않고 바로 predict를 하니 결과가 만족스럽지 않았다.\n",
    "\n",
    "이번 chapter에서는 미세조정을 해보는 코드를 배워볼 것이다."
   ]
  },
  {
   "cell_type": "markdown",
   "id": "3e567a31-ac81-4220-85e3-679b31f2be54",
   "metadata": {},
   "source": [
    "# 2. Encoder Sequence Classification"
   ]
  },
  {
   "cell_type": "markdown",
   "id": "a7e994cf-07cb-49da-ab9a-baee8f790d3c",
   "metadata": {},
   "source": [
    "## 2-1 Model"
   ]
  },
  {
   "cell_type": "code",
   "execution_count": 1,
   "id": "ad2887df-6bda-46fd-809e-42a8d5203836",
   "metadata": {},
   "outputs": [
    {
     "data": {
      "application/vnd.jupyter.widget-view+json": {
       "model_id": "b5d512fc4c4e4c028529d5034aebc6ff",
       "version_major": 2,
       "version_minor": 0
      },
      "text/plain": [
       "tokenizer_config.json:   0%|          | 0.00/289 [00:00<?, ?B/s]"
      ]
     },
     "metadata": {},
     "output_type": "display_data"
    },
    {
     "name": "stderr",
     "output_type": "stream",
     "text": [
      "/root/anaconda3/envs/asdf/lib/python3.9/site-packages/huggingface_hub/file_download.py:797: FutureWarning: `resume_download` is deprecated and will be removed in version 1.0.0. Downloads always resume when possible. If you want to force a new download, use `force_download=True`.\n",
      "  warnings.warn(\n"
     ]
    },
    {
     "data": {
      "application/vnd.jupyter.widget-view+json": {
       "model_id": "fc478ce8816f4e1088544d7470120106",
       "version_major": 2,
       "version_minor": 0
      },
      "text/plain": [
       "config.json:   0%|          | 0.00/425 [00:00<?, ?B/s]"
      ]
     },
     "metadata": {},
     "output_type": "display_data"
    },
    {
     "data": {
      "application/vnd.jupyter.widget-view+json": {
       "model_id": "966ae83583c745d180cafd4c834e9c06",
       "version_major": 2,
       "version_minor": 0
      },
      "text/plain": [
       "vocab.txt:   0%|          | 0.00/248k [00:00<?, ?B/s]"
      ]
     },
     "metadata": {},
     "output_type": "display_data"
    },
    {
     "data": {
      "application/vnd.jupyter.widget-view+json": {
       "model_id": "d2cc7068f3044c0b99d02fb093d7fa98",
       "version_major": 2,
       "version_minor": 0
      },
      "text/plain": [
       "tokenizer.json:   0%|          | 0.00/495k [00:00<?, ?B/s]"
      ]
     },
     "metadata": {},
     "output_type": "display_data"
    },
    {
     "data": {
      "application/vnd.jupyter.widget-view+json": {
       "model_id": "02d10d5ccae54c4dad3894faacd7b647",
       "version_major": 2,
       "version_minor": 0
      },
      "text/plain": [
       "special_tokens_map.json:   0%|          | 0.00/125 [00:00<?, ?B/s]"
      ]
     },
     "metadata": {},
     "output_type": "display_data"
    },
    {
     "data": {
      "application/vnd.jupyter.widget-view+json": {
       "model_id": "9d7fa05ca09c41a484eb7d10d1a9865c",
       "version_major": 2,
       "version_minor": 0
      },
      "text/plain": [
       "model.safetensors:   0%|          | 0.00/445M [00:00<?, ?B/s]"
      ]
     },
     "metadata": {},
     "output_type": "display_data"
    },
    {
     "name": "stderr",
     "output_type": "stream",
     "text": [
      "Some weights of BertForSequenceClassification were not initialized from the model checkpoint at klue/bert-base and are newly initialized: ['classifier.bias', 'classifier.weight']\n",
      "You should probably TRAIN this model on a down-stream task to be able to use it for predictions and inference.\n"
     ]
    }
   ],
   "source": [
    "import torch\n",
    "from transformers import AutoTokenizer, AutoModelForSequenceClassification\n",
    "\n",
    "model_name = \"klue/bert-base\"\n",
    "tokenizer = AutoTokenizer.from_pretrained(model_name)\n",
    "model = AutoModelForSequenceClassification.from_pretrained(model_name)"
   ]
  },
  {
   "cell_type": "markdown",
   "id": "6bbe189d-ce90-4bcb-9abb-ac66c4706088",
   "metadata": {},
   "source": [
    "## 2-2. Dataset"
   ]
  },
  {
   "cell_type": "code",
   "execution_count": 3,
   "id": "411709ee-c803-4ed4-90ed-c7f81df4170b",
   "metadata": {},
   "outputs": [
    {
     "data": {
      "application/vnd.jupyter.widget-view+json": {
       "model_id": "b841fbfed9e94cda863b0a7dd3586abf",
       "version_major": 2,
       "version_minor": 0
      },
      "text/plain": [
       "Map:   0%|          | 0/11668 [00:00<?, ? examples/s]"
      ]
     },
     "metadata": {},
     "output_type": "display_data"
    },
    {
     "data": {
      "application/vnd.jupyter.widget-view+json": {
       "model_id": "9becfb5bcac84d8091faef2eba64fdf8",
       "version_major": 2,
       "version_minor": 0
      },
      "text/plain": [
       "Map:   0%|          | 0/519 [00:00<?, ? examples/s]"
      ]
     },
     "metadata": {},
     "output_type": "display_data"
    },
    {
     "data": {
      "text/plain": [
       "['labels', 'input_ids', 'token_type_ids', 'attention_mask']"
      ]
     },
     "execution_count": 3,
     "metadata": {},
     "output_type": "execute_result"
    }
   ],
   "source": [
    "from datasets import load_dataset\n",
    "\n",
    "dataset = load_dataset(\"klue\", \"sts\")\n",
    "\n",
    "def process_data(batch):\n",
    "  result = tokenizer(\n",
    "      batch[\"sentence1\"],\n",
    "      text_pair=batch[\"sentence2\"],\n",
    "      max_length=128,\n",
    "      padding=\"max_length\",\n",
    "      truncation=True,\n",
    "      return_tensors=\"np\",\n",
    "  )\n",
    "  result[\"labels\"] = [x[\"binary-label\"] for x in batch[\"labels\"]]\n",
    "  return result\n",
    "\n",
    "tokenized_dataset = dataset.map(\n",
    "    process_data,\n",
    "    batched=True,\n",
    "    remove_columns=dataset[\"train\"].column_names,\n",
    ")\n",
    "tokenized_dataset[\"train\"].column_names"
   ]
  },
  {
   "cell_type": "markdown",
   "id": "e2181644-6aec-4f05-b84b-b5cb0093dabf",
   "metadata": {},
   "source": [
    "## 2-3 Train"
   ]
  },
  {
   "cell_type": "code",
   "execution_count": 21,
   "id": "4dc2ee1d-cd30-4fec-b3dc-f5096fffa584",
   "metadata": {},
   "outputs": [
    {
     "name": "stderr",
     "output_type": "stream",
     "text": [
      "/root/anaconda3/envs/asdf/lib/python3.9/site-packages/transformers/training_args.py:1474: FutureWarning: `evaluation_strategy` is deprecated and will be removed in version 4.46 of 🤗 Transformers. Use `eval_strategy` instead\n",
      "  warnings.warn(\n",
      "huggingface/tokenizers: The current process just got forked, after parallelism has already been used. Disabling parallelism to avoid deadlocks...\n",
      "To disable this warning, you can either:\n",
      "\t- Avoid using `tokenizers` before the fork if possible\n",
      "\t- Explicitly set the environment variable TOKENIZERS_PARALLELISM=(true | false)\n"
     ]
    },
    {
     "data": {
      "text/html": [
       "\n",
       "    <div>\n",
       "      \n",
       "      <progress value='400' max='1830' style='width:300px; height:20px; vertical-align: middle;'></progress>\n",
       "      [ 400/1830 04:27 < 16:01, 1.49 it/s, Epoch 2/10]\n",
       "    </div>\n",
       "    <table border=\"1\" class=\"dataframe\">\n",
       "  <thead>\n",
       " <tr style=\"text-align: left;\">\n",
       "      <th>Step</th>\n",
       "      <th>Training Loss</th>\n",
       "      <th>Validation Loss</th>\n",
       "      <th>F1</th>\n",
       "    </tr>\n",
       "  </thead>\n",
       "  <tbody>\n",
       "    <tr>\n",
       "      <td>100</td>\n",
       "      <td>0.045700</td>\n",
       "      <td>0.930365</td>\n",
       "      <td>0.786127</td>\n",
       "    </tr>\n",
       "    <tr>\n",
       "      <td>200</td>\n",
       "      <td>0.083700</td>\n",
       "      <td>0.718717</td>\n",
       "      <td>0.805395</td>\n",
       "    </tr>\n",
       "    <tr>\n",
       "      <td>300</td>\n",
       "      <td>0.071400</td>\n",
       "      <td>0.800480</td>\n",
       "      <td>0.786127</td>\n",
       "    </tr>\n",
       "    <tr>\n",
       "      <td>400</td>\n",
       "      <td>0.060000</td>\n",
       "      <td>0.828407</td>\n",
       "      <td>0.799615</td>\n",
       "    </tr>\n",
       "  </tbody>\n",
       "</table><p>"
      ],
      "text/plain": [
       "<IPython.core.display.HTML object>"
      ]
     },
     "metadata": {},
     "output_type": "display_data"
    },
    {
     "name": "stderr",
     "output_type": "stream",
     "text": [
      "Using the latest cached version of the module from /root/.cache/huggingface/modules/evaluate_modules/metrics/evaluate-metric--f1/0ca73f6cf92ef5a268320c697f7b940d1030f8471714bffdb6856c641b818974 (last modified on Tue Apr  1 08:33:18 2025) since it couldn't be found locally at evaluate-metric--f1, or remotely on the Hugging Face Hub.\n",
      "Using the latest cached version of the module from /root/.cache/huggingface/modules/evaluate_modules/metrics/evaluate-metric--f1/0ca73f6cf92ef5a268320c697f7b940d1030f8471714bffdb6856c641b818974 (last modified on Tue Apr  1 08:33:18 2025) since it couldn't be found locally at evaluate-metric--f1, or remotely on the Hugging Face Hub.\n",
      "Using the latest cached version of the module from /root/.cache/huggingface/modules/evaluate_modules/metrics/evaluate-metric--f1/0ca73f6cf92ef5a268320c697f7b940d1030f8471714bffdb6856c641b818974 (last modified on Tue Apr  1 08:33:18 2025) since it couldn't be found locally at evaluate-metric--f1, or remotely on the Hugging Face Hub.\n",
      "Using the latest cached version of the module from /root/.cache/huggingface/modules/evaluate_modules/metrics/evaluate-metric--f1/0ca73f6cf92ef5a268320c697f7b940d1030f8471714bffdb6856c641b818974 (last modified on Tue Apr  1 08:33:18 2025) since it couldn't be found locally at evaluate-metric--f1, or remotely on the Hugging Face Hub.\n"
     ]
    },
    {
     "data": {
      "text/plain": [
       "TrainOutput(global_step=400, training_loss=0.06518504738807679, metrics={'train_runtime': 268.0555, 'train_samples_per_second': 435.283, 'train_steps_per_second': 6.827, 'total_flos': 1678122311086080.0, 'train_loss': 0.06518504738807679, 'epoch': 2.185792349726776})"
      ]
     },
     "execution_count": 21,
     "metadata": {},
     "output_type": "execute_result"
    }
   ],
   "source": [
    "from transformers import (\n",
    "    Trainer, # 모델 학습을 위한 훈련 도구\n",
    "    TrainingArguments, # 학습을 위한 하이퍼파라미터 및 설정을 정의하는 클래스\n",
    "    default_data_collator, # 콜레이터\n",
    "    EarlyStoppingCallback # early stop 함수\n",
    ")\n",
    "import evaluate \n",
    "\n",
    "\n",
    "def custom_metrics(pred): # micro f1 score 평가 지표를 로드하는 함수\n",
    "  f1 = evaluate.load(\"f1\")\n",
    "  labels = pred.label_ids\n",
    "  preds = pred.predictions.argmax(-1)\n",
    "\n",
    "  return f1.compute(predictions=preds, references=labels, average=\"micro\")\n",
    "\n",
    "training_args = TrainingArguments( # 학습 argument 설정\n",
    "    per_device_train_batch_size=64, # 학습할 때 배치 크기\n",
    "    per_device_eval_batch_size=64, # 평가할 때 배치 크기\n",
    "    learning_rate=5e-6,\n",
    "    max_grad_norm=1, # 그래디언트 클리핑 (그래디언트 폭발 방지)\n",
    "    num_train_epochs=10, \n",
    "    evaluation_strategy=\"steps\", # 일정 step마다 검증 실행\n",
    "    logging_strategy=\"steps\", # 일정 스텝마다 로그 저장\n",
    "    logging_steps=100, # 100 step마다 로그 출력\n",
    "    logging_dir=\"data/logs\", # 로그 저장 경로 (현재 실행중인 폴더를 기준으로 저장되므로 현재 폴더를 잘 확인해야함)\n",
    "    save_strategy=\"steps\", # 일정 step마다 체크포인트 저장\n",
    "    save_steps=100, # 100 step마다 체크포인트 저장\n",
    "    output_dir=\"data/ckpt\", # 로그 저장 경로 (현재 실행중인 폴더를 기준으로 저장되므로 현재 폴더를 잘 확인해야함)\n",
    "    load_best_model_at_end = True, # 학습 종료 후 가장 좋은 모델 로드\n",
    "    report_to='tensorboard', # tensorboard에 학습 로그 기록\n",
    ")\n",
    "\n",
    "trainer = Trainer(\n",
    "    model=model,\n",
    "    args=training_args,\n",
    "    train_dataset=tokenized_dataset[\"train\"],\n",
    "    eval_dataset=tokenized_dataset[\"validation\"],\n",
    "    tokenizer=tokenizer,\n",
    "    data_collator=default_data_collator,\n",
    "    compute_metrics=custom_metrics,\n",
    "    callbacks = [EarlyStoppingCallback(early_stopping_patience=2)] # 2번 연속으로 검증 성능이 향상되지 않으면 학습 중단\n",
    ")\n",
    "\n",
    "trainer.train()"
   ]
  },
  {
   "cell_type": "markdown",
   "id": "56037db6-07b6-46d5-907b-c5a2989a321e",
   "metadata": {},
   "source": [
    "## 2-4. Predict"
   ]
  },
  {
   "cell_type": "markdown",
   "id": "bc5dd2a5-c743-469d-bda3-3af3f8fa96ea",
   "metadata": {},
   "source": [
    "미세조정으로 400 step에서 체크포인트로 저장한 경로에서 모델과 토크나이저를 불러와 검증 게이터 중 10개 샘플을 입력해 간단한 추론을 진행한다."
   ]
  },
  {
   "cell_type": "code",
   "execution_count": 24,
   "id": "7a9ead28-81b6-40bf-a570-6a3ac8a97dfb",
   "metadata": {},
   "outputs": [
    {
     "data": {
      "text/plain": [
       "tensor([[-3.8785,  3.4420],\n",
       "        [ 3.2443, -2.9451],\n",
       "        [ 1.9444, -1.9935],\n",
       "        [-3.5267,  3.0033],\n",
       "        [ 0.2386, -0.7375],\n",
       "        [ 3.3531, -2.7962],\n",
       "        [-3.2954,  2.9353],\n",
       "        [ 3.8899, -3.2844],\n",
       "        [ 4.2035, -3.6925],\n",
       "        [ 4.1651, -3.5504]])"
      ]
     },
     "execution_count": 24,
     "metadata": {},
     "output_type": "execute_result"
    }
   ],
   "source": [
    "import torch\n",
    "from datasets import load_dataset\n",
    "from transformers import (\n",
    "    AutoTokenizer,\n",
    "    BertForSequenceClassification,\n",
    "    DataCollatorWithPadding\n",
    ")\n",
    "\n",
    "# tokenizer, model\n",
    "model_name = \"data/ckpt/checkpoint-400\"\n",
    "tokenizer = AutoTokenizer.from_pretrained(model_name)\n",
    "model = BertForSequenceClassification.from_pretrained(model_name)\n",
    "\n",
    "collator = DataCollatorWithPadding(tokenizer) # 콜레이터 설정\n",
    "batch = collator([tokenized_dataset[\"validation\"][i] for i in range(10)])\n",
    "\n",
    "# inference\n",
    "with torch.no_grad():\n",
    "  logits = model(**batch).logits\n",
    "logits"
   ]
  },
  {
   "cell_type": "markdown",
   "id": "73347731-7400-42ba-89d9-25899221bfcf",
   "metadata": {},
   "source": [
    "## 2-5. Evaluate"
   ]
  },
  {
   "cell_type": "code",
   "execution_count": 25,
   "id": "01ec3d2d-9a90-41ac-872f-aef939bf9b75",
   "metadata": {},
   "outputs": [
    {
     "name": "stderr",
     "output_type": "stream",
     "text": [
      "Using the latest cached version of the module from /root/.cache/huggingface/modules/evaluate_modules/metrics/evaluate-metric--f1/0ca73f6cf92ef5a268320c697f7b940d1030f8471714bffdb6856c641b818974 (last modified on Tue Apr  1 08:33:18 2025) since it couldn't be found locally at evaluate-metric--f1, or remotely on the Hugging Face Hub.\n"
     ]
    },
    {
     "data": {
      "text/plain": [
       "{'f1': 1.0}"
      ]
     },
     "execution_count": 25,
     "metadata": {},
     "output_type": "execute_result"
    }
   ],
   "source": [
    "import evaluate\n",
    "\n",
    "pred_labels = logits.argmax(dim=1).cpu().numpy()\n",
    "true_labels = batch[\"labels\"].numpy()\n",
    "\n",
    "f1 = evaluate.load(\"f1\")\n",
    "f1.compute(predictions=pred_labels, references=true_labels, average=\"micro\")"
   ]
  },
  {
   "cell_type": "markdown",
   "id": "e4de7502-c616-4a6e-9402-e93769cfe72c",
   "metadata": {},
   "source": [
    "'klue/bert-base' 모델을 불러와서 `AutoModelForSequenceClassification` 헤드를 붙혔다.\n",
    "\n",
    "그 후 학습을 진행하였고 학습된 모델을 불러와서 예측을 하였으므로 미세조정(fine tuning)이다."
   ]
  },
  {
   "cell_type": "markdown",
   "id": "94948362-ad3b-4421-a299-03cc385882e5",
   "metadata": {},
   "source": [
    "# 3. Decoder Causal LM"
   ]
  },
  {
   "cell_type": "markdown",
   "id": "35ff9821-d8b2-42bb-ba8b-f8e9d10d32d9",
   "metadata": {},
   "source": [
    "## 3-1. model"
   ]
  },
  {
   "cell_type": "code",
   "execution_count": 32,
   "id": "098b12f1-fecf-4452-92a5-06bd1ca187d3",
   "metadata": {},
   "outputs": [],
   "source": [
    "import torch\n",
    "from transformers import AutoTokenizer, AutoModelForCausalLM\n",
    "\n",
    "\n",
    "model_name = \"skt/kogpt2-base-v2\"\n",
    "tokenizer = AutoTokenizer.from_pretrained(\n",
    "    model_name,\n",
    "    bos_token=\"</s>\",\n",
    "    eos_token=\"</s>\",\n",
    "    unk_token=\"<unk>\",\n",
    "    pad_token=\"<pad>\",\n",
    "    mask_token=\"<mask>\"\n",
    ")\n",
    "model = AutoModelForCausalLM.from_pretrained(model_name)"
   ]
  },
  {
   "cell_type": "markdown",
   "id": "a394ac0e-d005-4aa2-a385-becbabe58a01",
   "metadata": {},
   "source": [
    "## 3-2. Dataset"
   ]
  },
  {
   "cell_type": "code",
   "execution_count": 33,
   "id": "ac586a64-25fd-49fc-aa6f-2c7186160a15",
   "metadata": {},
   "outputs": [
    {
     "data": {
      "application/vnd.jupyter.widget-view+json": {
       "model_id": "5ff6a34318c8438e8ef0ff494cc622d7",
       "version_major": 2,
       "version_minor": 0
      },
      "text/plain": [
       "Map (num_proc=2):   0%|          | 0/8000 [00:00<?, ? examples/s]"
      ]
     },
     "metadata": {},
     "output_type": "display_data"
    },
    {
     "data": {
      "application/vnd.jupyter.widget-view+json": {
       "model_id": "c3151e59e084421eb32795dd5920435a",
       "version_major": 2,
       "version_minor": 0
      },
      "text/plain": [
       "Map (num_proc=2):   0%|          | 0/2000 [00:00<?, ? examples/s]"
      ]
     },
     "metadata": {},
     "output_type": "display_data"
    },
    {
     "data": {
      "text/plain": [
       "['input_ids', 'attention_mask']"
      ]
     },
     "execution_count": 33,
     "metadata": {},
     "output_type": "execute_result"
    }
   ],
   "source": [
    "from datasets import load_dataset\n",
    "\n",
    "# 데이터셋 구조화\n",
    "split_dict = {\n",
    "    \"train\": \"train[:8000]\",\n",
    "    \"test\": \"train[8000:10000]\",\n",
    "    \"unused\": \"train[10000:]\",\n",
    "}\n",
    "dataset = load_dataset(\"heegyu/kowikitext\", split=split_dict)\n",
    "del dataset[\"unused\"] # 사용하지 않는 unused 데이터를 삭제\n",
    "\n",
    "# 토큰화\n",
    "tokenized_dataset = dataset.map(\n",
    "    lambda batch: tokenizer([f\"{ti}\\n{te}\" for ti, te in zip(batch[\"title\"], batch[\"text\"])]),\n",
    "    batched=True, # 배치로 묶어서 처리\n",
    "    num_proc=2, # 2개 프로세스 병렬 실행\n",
    "    remove_columns=dataset[\"train\"].column_names, # 기존의 'title','text' 컬럼을 삭제 후 토큰화 결과만 남김\n",
    ")\n",
    "\n",
    "# 최대 길이로 그룹화\n",
    "max_length = 512 \n",
    "def group_texts(batched_sample):\n",
    "    sample = {k: v[0] for k, v in batched_sample.items()} # 데이터셋에서 각 key의 첫 번째 값만 가져오기.\n",
    "\n",
    "    if sample[\"input_ids\"][-1] != tokenizer.eos_token_id: # 마지막 토큰이 <eos>가 아니라면 <eos> 추가.\n",
    "        for k in sample.keys():\n",
    "            sample[k].append(\n",
    "                tokenizer.eos_token_id if k == \"input_ids\" else sample[k][-1]\n",
    "                # sample['input_ids']라면 <eos> 토큰을 추가. / sample['input_ids']가 아니라면 기존 값 유지.(sample[k][-1])\n",
    "            )\n",
    "\n",
    "    result = {\n",
    "        k: [v[i: i + max_length] for i in range(0, len(v), max_length)] # 문장이 길면 여러 개의 샘플로 분할\n",
    "        for k, v in sample.items()\n",
    "    }\n",
    "    return result\n",
    "\n",
    "grouped_dataset = tokenized_dataset.map(\n",
    "    group_texts,\n",
    "    batched=True,\n",
    "    batch_size=1,\n",
    "    num_proc=2,\n",
    ")\n",
    "grouped_dataset[\"train\"].column_names"
   ]
  },
  {
   "cell_type": "markdown",
   "id": "6c400903-c32a-4d0a-9111-d2c09d769f2e",
   "metadata": {},
   "source": [
    "## 3-3. Fine tuning"
   ]
  },
  {
   "cell_type": "code",
   "execution_count": 34,
   "id": "b28117af-be9c-42da-8708-c4bfedc42501",
   "metadata": {},
   "outputs": [
    {
     "name": "stderr",
     "output_type": "stream",
     "text": [
      "/root/anaconda3/envs/asdf/lib/python3.9/site-packages/transformers/training_args.py:1474: FutureWarning: `evaluation_strategy` is deprecated and will be removed in version 4.46 of 🤗 Transformers. Use `eval_strategy` instead\n",
      "  warnings.warn(\n"
     ]
    },
    {
     "data": {
      "text/html": [
       "\n",
       "    <div>\n",
       "      \n",
       "      <progress value='13776' max='13776' style='width:300px; height:20px; vertical-align: middle;'></progress>\n",
       "      [13776/13776 1:59:37, Epoch 3/3]\n",
       "    </div>\n",
       "    <table border=\"1\" class=\"dataframe\">\n",
       "  <thead>\n",
       " <tr style=\"text-align: left;\">\n",
       "      <th>Step</th>\n",
       "      <th>Training Loss</th>\n",
       "      <th>Validation Loss</th>\n",
       "    </tr>\n",
       "  </thead>\n",
       "  <tbody>\n",
       "    <tr>\n",
       "      <td>500</td>\n",
       "      <td>4.284300</td>\n",
       "      <td>4.471501</td>\n",
       "    </tr>\n",
       "    <tr>\n",
       "      <td>1000</td>\n",
       "      <td>4.219000</td>\n",
       "      <td>3.416660</td>\n",
       "    </tr>\n",
       "    <tr>\n",
       "      <td>1500</td>\n",
       "      <td>4.206900</td>\n",
       "      <td>2.995688</td>\n",
       "    </tr>\n",
       "    <tr>\n",
       "      <td>2000</td>\n",
       "      <td>4.185800</td>\n",
       "      <td>2.903164</td>\n",
       "    </tr>\n",
       "    <tr>\n",
       "      <td>2500</td>\n",
       "      <td>4.168300</td>\n",
       "      <td>2.876508</td>\n",
       "    </tr>\n",
       "    <tr>\n",
       "      <td>3000</td>\n",
       "      <td>4.151000</td>\n",
       "      <td>2.805254</td>\n",
       "    </tr>\n",
       "    <tr>\n",
       "      <td>3500</td>\n",
       "      <td>4.151500</td>\n",
       "      <td>2.801232</td>\n",
       "    </tr>\n",
       "    <tr>\n",
       "      <td>4000</td>\n",
       "      <td>4.160500</td>\n",
       "      <td>2.774476</td>\n",
       "    </tr>\n",
       "    <tr>\n",
       "      <td>4500</td>\n",
       "      <td>4.133300</td>\n",
       "      <td>2.774085</td>\n",
       "    </tr>\n",
       "    <tr>\n",
       "      <td>5000</td>\n",
       "      <td>4.085200</td>\n",
       "      <td>2.745091</td>\n",
       "    </tr>\n",
       "    <tr>\n",
       "      <td>5500</td>\n",
       "      <td>4.062300</td>\n",
       "      <td>2.747127</td>\n",
       "    </tr>\n",
       "    <tr>\n",
       "      <td>6000</td>\n",
       "      <td>4.066100</td>\n",
       "      <td>2.767898</td>\n",
       "    </tr>\n",
       "    <tr>\n",
       "      <td>6500</td>\n",
       "      <td>4.037000</td>\n",
       "      <td>2.726495</td>\n",
       "    </tr>\n",
       "    <tr>\n",
       "      <td>7000</td>\n",
       "      <td>4.048100</td>\n",
       "      <td>2.735216</td>\n",
       "    </tr>\n",
       "    <tr>\n",
       "      <td>7500</td>\n",
       "      <td>4.060500</td>\n",
       "      <td>2.741515</td>\n",
       "    </tr>\n",
       "    <tr>\n",
       "      <td>8000</td>\n",
       "      <td>4.031300</td>\n",
       "      <td>2.703305</td>\n",
       "    </tr>\n",
       "    <tr>\n",
       "      <td>8500</td>\n",
       "      <td>4.050100</td>\n",
       "      <td>2.725095</td>\n",
       "    </tr>\n",
       "    <tr>\n",
       "      <td>9000</td>\n",
       "      <td>4.062700</td>\n",
       "      <td>2.712202</td>\n",
       "    </tr>\n",
       "    <tr>\n",
       "      <td>9500</td>\n",
       "      <td>4.020300</td>\n",
       "      <td>2.688988</td>\n",
       "    </tr>\n",
       "    <tr>\n",
       "      <td>10000</td>\n",
       "      <td>3.996800</td>\n",
       "      <td>2.699451</td>\n",
       "    </tr>\n",
       "    <tr>\n",
       "      <td>10500</td>\n",
       "      <td>4.008100</td>\n",
       "      <td>2.701477</td>\n",
       "    </tr>\n",
       "    <tr>\n",
       "      <td>11000</td>\n",
       "      <td>3.989600</td>\n",
       "      <td>2.698209</td>\n",
       "    </tr>\n",
       "    <tr>\n",
       "      <td>11500</td>\n",
       "      <td>3.984000</td>\n",
       "      <td>2.686813</td>\n",
       "    </tr>\n",
       "    <tr>\n",
       "      <td>12000</td>\n",
       "      <td>4.007600</td>\n",
       "      <td>2.688273</td>\n",
       "    </tr>\n",
       "    <tr>\n",
       "      <td>12500</td>\n",
       "      <td>3.992500</td>\n",
       "      <td>2.678961</td>\n",
       "    </tr>\n",
       "    <tr>\n",
       "      <td>13000</td>\n",
       "      <td>3.982600</td>\n",
       "      <td>2.687267</td>\n",
       "    </tr>\n",
       "    <tr>\n",
       "      <td>13500</td>\n",
       "      <td>4.009200</td>\n",
       "      <td>2.686797</td>\n",
       "    </tr>\n",
       "  </tbody>\n",
       "</table><p>"
      ],
      "text/plain": [
       "<IPython.core.display.HTML object>"
      ]
     },
     "metadata": {},
     "output_type": "display_data"
    }
   ],
   "source": [
    "from transformers import Trainer, TrainingArguments, DataCollatorForLanguageModeling\n",
    "\n",
    "training_args = TrainingArguments(\n",
    "    per_device_train_batch_size=4,\n",
    "    per_device_eval_batch_size=4,\n",
    "    learning_rate=5e-6,\n",
    "    max_grad_norm=1,\n",
    "    num_train_epochs=3,\n",
    "    evaluation_strategy=\"steps\",\n",
    "    logging_strategy=\"steps\",\n",
    "    logging_steps=500,\n",
    "    logging_dir=\"data/logs\",\n",
    "    output_dir=\"data/ckpt\",\n",
    "    report_to=\"tensorboard\",\n",
    ")\n",
    "\n",
    "collator = DataCollatorForLanguageModeling(tokenizer=tokenizer, mlm=False)\n",
    "\n",
    "trainer = Trainer(\n",
    "    model=model,\n",
    "    args=training_args,\n",
    "    train_dataset=grouped_dataset[\"train\"],\n",
    "    eval_dataset=grouped_dataset[\"test\"],\n",
    "    tokenizer=tokenizer,\n",
    "    data_collator=collator,\n",
    ")\n",
    "\n",
    "trainer.train()\n",
    "trainer.save_model(\"data/model\")"
   ]
  },
  {
   "cell_type": "markdown",
   "id": "cc12c37d-fea1-4d74-98e6-dcd36316d90b",
   "metadata": {},
   "source": [
    "## 3-4. Predict by before fine tuning model"
   ]
  },
  {
   "cell_type": "code",
   "execution_count": 35,
   "id": "10646ccb-26f1-4b2c-a219-c8e59c0c446e",
   "metadata": {},
   "outputs": [
    {
     "name": "stderr",
     "output_type": "stream",
     "text": [
      "/root/anaconda3/envs/asdf/lib/python3.9/site-packages/huggingface_hub/file_download.py:797: FutureWarning: `resume_download` is deprecated and will be removed in version 1.0.0. Downloads always resume when possible. If you want to force a new download, use `force_download=True`.\n",
      "  warnings.warn(\n"
     ]
    },
    {
     "name": "stdout",
     "output_type": "stream",
     "text": [
      "우리는 누구나 희망을 가지고 살아갈 수 있는 사회를 만들어야 한다\"고 강조했다.\n",
      "이날 행사에는 박근혜 대통령, 황우여 새누리당 대표 등 여권 지도부와 김무성 전 대표가 참석해 축사를 했다.\n",
      "김영삼 정부 시절인 지난 2007년 대선 당시 이명박 후보의 당선을 위해 '국민통합21'을 이끌었던 이 후보는 \"우리나라에서 가장 큰 문제는 경제\"라며 \"이명박은 경제를 살리고 서민을 위한 정치를 하겠다고 약속했지만 현실은 그렇지 못했다\"며 이같이 말했다.\n",
      "그는 이어 \"나는 지금 대한민국을 걱정하고 있다, 경제가 어렵다면 우리 모두 힘을 모아 위기를 극복해야 한다고 생각한다\n"
     ]
    }
   ],
   "source": [
    "import torch\n",
    "from transformers import AutoTokenizer, GPT2LMHeadModel\n",
    "\n",
    "# 미세조정 이전\n",
    "origin_name = \"skt/kogpt2-base-v2\"\n",
    "origin_tokenizer = AutoTokenizer.from_pretrained(\n",
    "    origin_name,\n",
    "    bos_token=\"</s>\",\n",
    "    eos_token=\"</s>\",\n",
    "    unk_token=\"<unk>\",\n",
    "    pad_token=\"<pad>\",\n",
    "    mask_token=\"<mask>\"\n",
    ")\n",
    "origin_model = GPT2LMHeadModel.from_pretrained(origin_name)\n",
    "\n",
    "inputs1 = origin_tokenizer(\n",
    "    \"우리는 누구나 희망을 가지고\",\n",
    "    return_tensors=\"pt\"\n",
    ").to(origin_model.device)\n",
    "outputs1 = origin_model.generate(inputs1.input_ids, max_length=128, repetition_penalty=2.0)\n",
    "result1 = origin_tokenizer.batch_decode(outputs1, skip_special_tokens=True)\n",
    "print(result1[0])"
   ]
  },
  {
   "cell_type": "markdown",
   "id": "c1c92fd2-b3f6-430e-8b4e-cf4ad3237740",
   "metadata": {},
   "source": [
    "## 3-5. Predict by after fine tuning model"
   ]
  },
  {
   "cell_type": "code",
   "execution_count": 36,
   "id": "6946fdb4-07cb-4cdf-bcf6-66be8997677f",
   "metadata": {},
   "outputs": [
    {
     "name": "stdout",
     "output_type": "stream",
     "text": [
      "우리는 누구나 희망을 가지고 살아갈 수 있는 사회를 만들자는 것이었다. 그러나 그 희망은 결국 좌절되고 말았다. 이 절망적인 상황 속에서, 사람들은 자신들의 삶을 포기하고 다른 사람들의 삶으로 돌아가고자 하였다. 이러한 상황에서 그들은 자신의 삶에 대한 책임을 회피하고 자기 자신을 희생하는 선택을 하게 되었다. 그리하여 많은 사람들이 자살을 선택하게 되었고, 이는 곧 자살로 이어지게 되었다.\n",
      "이러한 상황에 대해서, 현대 사회는 개인의 존엄성을 존중하지 않는 사회라고 비판하였다. 또한 개인들이 스스로 목숨을 끊는 것을 막기 위해 노력하기도 했다. 하지만 그러한 극단적인 행동들은 오히려 사람들을 죽음으로 내몰게 만드는 결과를 가져왔다. 예를 들어, 한 개인이 사망할 경우 가족들의 동의 없이 강제로 죽음을\n"
     ]
    }
   ],
   "source": [
    "# 미세조정 이후\n",
    "finetuned_name = \"data/model\"\n",
    "finetuned_tokenizer = AutoTokenizer.from_pretrained(finetuned_name)\n",
    "finetuned_model = GPT2LMHeadModel.from_pretrained(finetuned_name)\n",
    "\n",
    "inputs2 = finetuned_tokenizer(\n",
    "    \"우리는 누구나 희망을 가지고\",\n",
    "    return_tensors=\"pt\").to(finetuned_model.device)\n",
    "outputs2 = finetuned_model.generate(\n",
    "    inputs2.input_ids,\n",
    "    max_length=128,\n",
    "    repetition_penalty=2.0\n",
    ")\n",
    "result2 = finetuned_tokenizer.batch_decode(outputs2, skip_special_tokens=True)\n",
    "print(result2[0])"
   ]
  },
  {
   "cell_type": "markdown",
   "id": "995e8f02-f1fc-462b-b9de-3a040648ecf5",
   "metadata": {},
   "source": [
    "# 4. Encoder-Decoder Conditional Generation"
   ]
  },
  {
   "cell_type": "markdown",
   "id": "559b5b99-eb5f-4e50-9af7-658d7c34db62",
   "metadata": {},
   "source": [
    "어떤 문장이 주어졌을 때, 입력한 문장을 기반으로 새로운 문장을 작성하는 조건부 생성 태스크로 미세조정한다.\n",
    "\n",
    "**번역 Task**"
   ]
  },
  {
   "cell_type": "markdown",
   "id": "62a552f9-35ff-4735-8df9-81d87abab214",
   "metadata": {},
   "source": [
    "## 4-1. model"
   ]
  },
  {
   "cell_type": "code",
   "execution_count": 38,
   "id": "2aee3412-081f-40da-b3db-0c16183fae66",
   "metadata": {},
   "outputs": [
    {
     "name": "stderr",
     "output_type": "stream",
     "text": [
      "You passed along `num_labels=3` with an incompatible id to label map: {'0': 'NEGATIVE', '1': 'POSITIVE'}. The number of labels wil be overwritten to 2.\n"
     ]
    }
   ],
   "source": [
    "from transformers import AutoTokenizer, AutoModelForSeq2SeqLM\n",
    "\n",
    "model_name = 'hyunwoongko/kobart'\n",
    "tokenizer = AutoTokenizer.from_pretrained(model_name)\n",
    "model = AutoModelForSeq2SeqLM.from_pretrained(model_name)"
   ]
  },
  {
   "cell_type": "markdown",
   "id": "fd6d35ec-7989-4e1e-a51e-51feda1d0c74",
   "metadata": {},
   "source": [
    "## 4-2. Dataset "
   ]
  },
  {
   "cell_type": "markdown",
   "id": "5fe5eb60-cb7a-44e0-95a2-050d654c0b4a",
   "metadata": {},
   "source": [
    "번역 모델에서는 text_target이라는 인자를 사용하고 한국어를 입력했을 때 영어를 출력으로 생성하는 목적으로 `text_target = batch['english']`를 사용한다"
   ]
  },
  {
   "cell_type": "code",
   "execution_count": 39,
   "id": "a0a9b359-a2a2-4785-b1c8-23e0e438fe68",
   "metadata": {},
   "outputs": [
    {
     "data": {
      "application/vnd.jupyter.widget-view+json": {
       "model_id": "919bac73eef44b6793e09bfbaa172763",
       "version_major": 2,
       "version_minor": 0
      },
      "text/plain": [
       "Map (num_proc=2):   0%|          | 0/166215 [00:00<?, ? examples/s]"
      ]
     },
     "metadata": {},
     "output_type": "display_data"
    },
    {
     "data": {
      "application/vnd.jupyter.widget-view+json": {
       "model_id": "687bbe4a8e3b416faf845fcf539866db",
       "version_major": 2,
       "version_minor": 0
      },
      "text/plain": [
       "Map (num_proc=2):   0%|          | 0/1958 [00:00<?, ? examples/s]"
      ]
     },
     "metadata": {},
     "output_type": "display_data"
    },
    {
     "data": {
      "application/vnd.jupyter.widget-view+json": {
       "model_id": "5fb3267a04854c6a995f491a37cd767b",
       "version_major": 2,
       "version_minor": 0
      },
      "text/plain": [
       "Map (num_proc=2):   0%|          | 0/1982 [00:00<?, ? examples/s]"
      ]
     },
     "metadata": {},
     "output_type": "display_data"
    },
    {
     "data": {
      "text/plain": [
       "['input_ids', 'attention_mask', 'labels']"
      ]
     },
     "execution_count": 39,
     "metadata": {},
     "output_type": "execute_result"
    }
   ],
   "source": [
    "from datasets import load_dataset\n",
    "\n",
    "dataset = load_dataset('msarmi9/korean-english-multitarget-ted-talks-task')\n",
    "tokenized_dataset = dataset.map(\n",
    "    lambda batch: (tokenizer(batch['korean'], text_target = batch['english'], max_length=128, truncation = True)\n",
    "                  ),batched = True, batch_size = 1000, num_proc = 2, remove_columns = dataset['train'].column_names)\n",
    "\n",
    "tokenized_dataset['train'].column_names"
   ]
  },
  {
   "cell_type": "markdown",
   "id": "8cca1ec5-adc5-468e-b136-67d355f4509c",
   "metadata": {},
   "source": [
    "`input_ids` : 입력 문장이 토큰화 되어서 사전에 매핑된 숫자로 변환된다.\n",
    "\n",
    "`attention mask`: 진짜 입력과 패딩을 구별하도록 도와준다. `input_ids`의 길이가 모두 같아야 모델이 한 꺼번에 처리할 수 있기에 문장이 짧은 경우엔 뒤에 `0` 또는 `[PAD]`를 넣어서 길이를 맞춘다. 이때, 어떤 부분이 실제 문장이고 어떤 부분이 패딩인지 알려주는 게 바로 **attention mask**이다.\n",
    "\n",
    "`labels`: 정답 토큰 시퀀스이다. Seq2Seq 모델에서 모델이 예측해야 할 목표 문장을 의미한다. labels도 길이를 맞추기 위해 padding을 넣을 수 있는데 padding 부분은 Loss 계산에서 무시해야하므로 보통 -100으로 채운다."
   ]
  },
  {
   "cell_type": "markdown",
   "id": "8c1b5605-4bf9-4e8b-9867-3b90dd700d85",
   "metadata": {},
   "source": [
    "labels가 있다는 건 정답이 있다는 의미!\n",
    "\n",
    "번역 Task에서 정답은 번역하고자 하는 언어로 쓰여진 문장이므로 여기서는 영어 문장이다.\n",
    "\n",
    "영어 문장은 Dataset에 이미 포함되어있고 학습을 위해 Loss 계산을 할 때 사용된다."
   ]
  },
  {
   "cell_type": "markdown",
   "id": "27da18ca-4e89-46fb-99cc-2a9ed41f86e4",
   "metadata": {},
   "source": [
    "## 4-3. fine tuning"
   ]
  },
  {
   "cell_type": "code",
   "execution_count": 50,
   "id": "4684ac12-c678-4f29-8415-fc978c8c9b9a",
   "metadata": {},
   "outputs": [],
   "source": [
    "from transformers import Trainer, TrainingArguments, DataCollatorForSeq2Seq\n",
    "\n",
    "training_args = TrainingArguments(\n",
    "    per_device_train_batch_size=32,\n",
    "    per_device_eval_batch_size=32,\n",
    "    learning_rate=2e-5,\n",
    "    max_grad_norm=1,\n",
    "    num_train_epochs=2,\n",
    "    evaluation_strategy=\"steps\",\n",
    "    logging_strategy=\"steps\",\n",
    "    logging_steps=500,\n",
    "    logging_dir=\"data/logs\",\n",
    "    save_strategy=\"steps\",\n",
    "    save_steps=1000,\n",
    "    output_dir=\"data/ckpt\",\n",
    "    report_to=\"tensorboard\",\n",
    ")\n",
    "\n",
    "trainer = Trainer(\n",
    "    model=model,\n",
    "    args=training_args,\n",
    "    train_dataset=tokenized_dataset[\"train\"],\n",
    "    eval_dataset=tokenized_dataset[\"test\"],\n",
    "    tokenizer=tokenizer,\n",
    "    data_collator=DataCollatorForSeq2Seq(tokenizer=tokenizer, model=model),\n",
    ")\n",
    "\n",
    "\n",
    "trainer.train()\n",
    "trainer.save_model(\"data/model\")"
   ]
  },
  {
   "cell_type": "markdown",
   "id": "6a9250d0-a766-4456-bcbe-4f98108609d1",
   "metadata": {},
   "source": [
    "`-` GPU 사용할 때 학습 시간은 2시간이 조금 넘기에 학습은 생략했습니다."
   ]
  },
  {
   "cell_type": "markdown",
   "id": "90578805-7d75-493d-a2a7-31789b146c42",
   "metadata": {},
   "source": [
    "## 4-4. predict"
   ]
  },
  {
   "cell_type": "code",
   "execution_count": null,
   "id": "2e0a549d-66a3-4a7f-9cd7-314e6b087a46",
   "metadata": {},
   "outputs": [],
   "source": [
    "import torch\n",
    "from transformers import (\n",
    "    AutoTokenizer,\n",
    "    AutoModelForSeq2SeqLM,\n",
    "    DataCollatorForSeq2Seq,\n",
    "    GenerationConfig\n",
    ")\n",
    "\n",
    "model_name = \"data/model\" # 미세조정한 model\n",
    "tokenizer = AutoTokenizer.from_pretrained(model_name)\n",
    "model = AutoModelForSeq2SeqLM.from_pretrained(model_name)\n",
    "\n",
    "collator = DataCollatorForSeq2Seq(\n",
    "    tokenizer=tokenizer,\n",
    "    model=model,\n",
    "    padding=\"max_length\",\n",
    "    max_length=512,\n",
    ")\n",
    "batch = collator([tokenized_dataset[\"test\"][i] for i in range(2)])\n",
    "\n",
    "outputs = model.generate(batch[\"input_ids\"], max_length=128, do_sample=False)\n",
    "result = tokenizer.batch_decode(outputs, skip_special_tokens=True)\n",
    "origin = tokenizer.batch_decode(batch[\"input_ids\"], skip_special_tokens=True)\n",
    "print(f\"원본 : {origin[0]} -> 영어 : {result[0]}\")\n",
    "print(f\"원본 : {origin[1]} -> 영어 : {result[1]}\")"
   ]
  }
 ],
 "metadata": {
  "kernelspec": {
   "display_name": "Python 3 (ipykernel)",
   "language": "python",
   "name": "python3"
  },
  "language_info": {
   "codemirror_mode": {
    "name": "ipython",
    "version": 3
   },
   "file_extension": ".py",
   "mimetype": "text/x-python",
   "name": "python",
   "nbconvert_exporter": "python",
   "pygments_lexer": "ipython3",
   "version": "3.13.2"
  }
 },
 "nbformat": 4,
 "nbformat_minor": 5
}
